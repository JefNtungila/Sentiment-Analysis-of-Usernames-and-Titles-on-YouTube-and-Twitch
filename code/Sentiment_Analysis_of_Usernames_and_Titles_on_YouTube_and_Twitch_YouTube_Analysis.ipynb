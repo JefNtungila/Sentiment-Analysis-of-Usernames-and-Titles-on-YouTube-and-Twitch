{
  "nbformat": 4,
  "nbformat_minor": 0,
  "metadata": {
    "colab": {
      "name": "Sentiment Analysis of Usernames and Titles on YouTube and Twitch_YouTube_Analysis.ipynb",
      "provenance": [],
      "collapsed_sections": [],
      "toc_visible": true
    },
    "kernelspec": {
      "name": "python3",
      "display_name": "Python 3"
    },
    "language_info": {
      "name": "python"
    }
  },
  "cells": [
    {
      "cell_type": "markdown",
      "metadata": {
        "id": "G1fX142B0lgX"
      },
      "source": [
        "# Sentiment Analysis and Emote Detection of YouTube Data"
      ]
    },
    {
      "cell_type": "markdown",
      "metadata": {
        "id": "whm87dJY073k"
      },
      "source": [
        "## Loading data into notebook"
      ]
    },
    {
      "cell_type": "code",
      "metadata": {
        "id": "paj_bgck8WV8"
      },
      "source": [
        "import pandas as pd\n",
        "pd.options.display.max_colwidth = 500 \n",
        "\n",
        "#reading data in\n",
        "\n",
        "youtube_data = pd.read_csv('https://raw.githubusercontent.com/JefNtungila/Sentiment-Analysis-of-Usernames-and-Titles-on-YouTube-and-Twitch/main/data/youtube_data.csv')"
      ],
      "execution_count": null,
      "outputs": []
    },
    {
      "cell_type": "code",
      "metadata": {
        "colab": {
          "base_uri": "https://localhost:8080/",
          "height": 786
        },
        "id": "4VY-tk0mswir",
        "outputId": "e331731d-f014-4e00-9017-d60815a2636e"
      },
      "source": [
        "youtube_data.describe(include = 'all').T"
      ],
      "execution_count": null,
      "outputs": [
        {
          "output_type": "execute_result",
          "data": {
            "text/html": [
              "<div>\n",
              "<style scoped>\n",
              "    .dataframe tbody tr th:only-of-type {\n",
              "        vertical-align: middle;\n",
              "    }\n",
              "\n",
              "    .dataframe tbody tr th {\n",
              "        vertical-align: top;\n",
              "    }\n",
              "\n",
              "    .dataframe thead th {\n",
              "        text-align: right;\n",
              "    }\n",
              "</style>\n",
              "<table border=\"1\" class=\"dataframe\">\n",
              "  <thead>\n",
              "    <tr style=\"text-align: right;\">\n",
              "      <th></th>\n",
              "      <th>count</th>\n",
              "      <th>unique</th>\n",
              "      <th>top</th>\n",
              "      <th>freq</th>\n",
              "      <th>mean</th>\n",
              "      <th>std</th>\n",
              "      <th>min</th>\n",
              "      <th>25%</th>\n",
              "      <th>50%</th>\n",
              "      <th>75%</th>\n",
              "      <th>max</th>\n",
              "    </tr>\n",
              "  </thead>\n",
              "  <tbody>\n",
              "    <tr>\n",
              "      <th>Unnamed: 0</th>\n",
              "      <td>11783</td>\n",
              "      <td>NaN</td>\n",
              "      <td>NaN</td>\n",
              "      <td>NaN</td>\n",
              "      <td>5891</td>\n",
              "      <td>3401.6</td>\n",
              "      <td>0</td>\n",
              "      <td>2945.5</td>\n",
              "      <td>5891</td>\n",
              "      <td>8836.5</td>\n",
              "      <td>11782</td>\n",
              "    </tr>\n",
              "    <tr>\n",
              "      <th>reference_index</th>\n",
              "      <td>11783</td>\n",
              "      <td>NaN</td>\n",
              "      <td>NaN</td>\n",
              "      <td>NaN</td>\n",
              "      <td>23.6104</td>\n",
              "      <td>13.9866</td>\n",
              "      <td>0</td>\n",
              "      <td>12</td>\n",
              "      <td>24</td>\n",
              "      <td>36</td>\n",
              "      <td>49</td>\n",
              "    </tr>\n",
              "    <tr>\n",
              "      <th>username</th>\n",
              "      <td>11783</td>\n",
              "      <td>1303</td>\n",
              "      <td>America's Got Talent</td>\n",
              "      <td>202</td>\n",
              "      <td>NaN</td>\n",
              "      <td>NaN</td>\n",
              "      <td>NaN</td>\n",
              "      <td>NaN</td>\n",
              "      <td>NaN</td>\n",
              "      <td>NaN</td>\n",
              "      <td>NaN</td>\n",
              "    </tr>\n",
              "    <tr>\n",
              "      <th>video_title</th>\n",
              "      <td>11783</td>\n",
              "      <td>1910</td>\n",
              "      <td>Ed Sheeran - Bad Habits [Official Video]</td>\n",
              "      <td>74</td>\n",
              "      <td>NaN</td>\n",
              "      <td>NaN</td>\n",
              "      <td>NaN</td>\n",
              "      <td>NaN</td>\n",
              "      <td>NaN</td>\n",
              "      <td>NaN</td>\n",
              "      <td>NaN</td>\n",
              "    </tr>\n",
              "    <tr>\n",
              "      <th>publish_time</th>\n",
              "      <td>11783</td>\n",
              "      <td>1878</td>\n",
              "      <td>2021-06-25T04:00:33Z</td>\n",
              "      <td>74</td>\n",
              "      <td>NaN</td>\n",
              "      <td>NaN</td>\n",
              "      <td>NaN</td>\n",
              "      <td>NaN</td>\n",
              "      <td>NaN</td>\n",
              "      <td>NaN</td>\n",
              "      <td>NaN</td>\n",
              "    </tr>\n",
              "    <tr>\n",
              "      <th>view_count</th>\n",
              "      <td>11783</td>\n",
              "      <td>NaN</td>\n",
              "      <td>NaN</td>\n",
              "      <td>NaN</td>\n",
              "      <td>7.98687e+06</td>\n",
              "      <td>1.60045e+07</td>\n",
              "      <td>65009</td>\n",
              "      <td>1.03288e+06</td>\n",
              "      <td>2.54451e+06</td>\n",
              "      <td>6.96942e+06</td>\n",
              "      <td>1.50066e+08</td>\n",
              "    </tr>\n",
              "    <tr>\n",
              "      <th>comment_count</th>\n",
              "      <td>11783</td>\n",
              "      <td>NaN</td>\n",
              "      <td>NaN</td>\n",
              "      <td>NaN</td>\n",
              "      <td>23365.9</td>\n",
              "      <td>87742.1</td>\n",
              "      <td>0</td>\n",
              "      <td>2500</td>\n",
              "      <td>6386</td>\n",
              "      <td>16928</td>\n",
              "      <td>1.1064e+06</td>\n",
              "    </tr>\n",
              "    <tr>\n",
              "      <th>like_count</th>\n",
              "      <td>11783</td>\n",
              "      <td>NaN</td>\n",
              "      <td>NaN</td>\n",
              "      <td>NaN</td>\n",
              "      <td>351735</td>\n",
              "      <td>633044</td>\n",
              "      <td>589</td>\n",
              "      <td>46449</td>\n",
              "      <td>124633</td>\n",
              "      <td>360195</td>\n",
              "      <td>7.42521e+06</td>\n",
              "    </tr>\n",
              "    <tr>\n",
              "      <th>dislike count</th>\n",
              "      <td>11783</td>\n",
              "      <td>NaN</td>\n",
              "      <td>NaN</td>\n",
              "      <td>NaN</td>\n",
              "      <td>10204.1</td>\n",
              "      <td>23490.7</td>\n",
              "      <td>17</td>\n",
              "      <td>722.5</td>\n",
              "      <td>2002</td>\n",
              "      <td>7422</td>\n",
              "      <td>252543</td>\n",
              "    </tr>\n",
              "    <tr>\n",
              "      <th>api_call_time</th>\n",
              "      <td>11783</td>\n",
              "      <td>245</td>\n",
              "      <td>2021-06-01T08:37:07.564092</td>\n",
              "      <td>50</td>\n",
              "      <td>NaN</td>\n",
              "      <td>NaN</td>\n",
              "      <td>NaN</td>\n",
              "      <td>NaN</td>\n",
              "      <td>NaN</td>\n",
              "      <td>NaN</td>\n",
              "      <td>NaN</td>\n",
              "    </tr>\n",
              "    <tr>\n",
              "      <th>date_api_call_time</th>\n",
              "      <td>11783</td>\n",
              "      <td>62</td>\n",
              "      <td>2021-05-30</td>\n",
              "      <td>200</td>\n",
              "      <td>NaN</td>\n",
              "      <td>NaN</td>\n",
              "      <td>NaN</td>\n",
              "      <td>NaN</td>\n",
              "      <td>NaN</td>\n",
              "      <td>NaN</td>\n",
              "      <td>NaN</td>\n",
              "    </tr>\n",
              "    <tr>\n",
              "      <th>hour_api_call_time</th>\n",
              "      <td>11783</td>\n",
              "      <td>NaN</td>\n",
              "      <td>NaN</td>\n",
              "      <td>NaN</td>\n",
              "      <td>11.0802</td>\n",
              "      <td>6.61744</td>\n",
              "      <td>2</td>\n",
              "      <td>8</td>\n",
              "      <td>14</td>\n",
              "      <td>14</td>\n",
              "      <td>20</td>\n",
              "    </tr>\n",
              "    <tr>\n",
              "      <th>tokenised_title</th>\n",
              "      <td>11783</td>\n",
              "      <td>1866</td>\n",
              "      <td>['ed', 'sheeran', 'bad', 'habits', 'official', 'video']</td>\n",
              "      <td>74</td>\n",
              "      <td>NaN</td>\n",
              "      <td>NaN</td>\n",
              "      <td>NaN</td>\n",
              "      <td>NaN</td>\n",
              "      <td>NaN</td>\n",
              "      <td>NaN</td>\n",
              "      <td>NaN</td>\n",
              "    </tr>\n",
              "    <tr>\n",
              "      <th>tokenised_titles_with_stopwords</th>\n",
              "      <td>11783</td>\n",
              "      <td>1875</td>\n",
              "      <td>['ed', 'sheeran', 'bad', 'habits', 'official', 'video']</td>\n",
              "      <td>74</td>\n",
              "      <td>NaN</td>\n",
              "      <td>NaN</td>\n",
              "      <td>NaN</td>\n",
              "      <td>NaN</td>\n",
              "      <td>NaN</td>\n",
              "      <td>NaN</td>\n",
              "      <td>NaN</td>\n",
              "    </tr>\n",
              "    <tr>\n",
              "      <th>genre</th>\n",
              "      <td>11783</td>\n",
              "      <td>5</td>\n",
              "      <td>Youtuber</td>\n",
              "      <td>6512</td>\n",
              "      <td>NaN</td>\n",
              "      <td>NaN</td>\n",
              "      <td>NaN</td>\n",
              "      <td>NaN</td>\n",
              "      <td>NaN</td>\n",
              "      <td>NaN</td>\n",
              "      <td>NaN</td>\n",
              "    </tr>\n",
              "    <tr>\n",
              "      <th>words_in_names</th>\n",
              "      <td>11582</td>\n",
              "      <td>1231</td>\n",
              "      <td>['got', 'en', 'tal', 'erica', 'alen', 'america', 'ta', 'len', 'lent', 'talent', 'al', 'eric', 'ame', 'mer', 'ale', 'er', 'ric', 'tale']</td>\n",
              "      <td>202</td>\n",
              "      <td>NaN</td>\n",
              "      <td>NaN</td>\n",
              "      <td>NaN</td>\n",
              "      <td>NaN</td>\n",
              "      <td>NaN</td>\n",
              "      <td>NaN</td>\n",
              "      <td>NaN</td>\n",
              "    </tr>\n",
              "  </tbody>\n",
              "</table>\n",
              "</div>"
            ],
            "text/plain": [
              "                                 count unique  ...          75%          max\n",
              "Unnamed: 0                       11783    NaN  ...       8836.5        11782\n",
              "reference_index                  11783    NaN  ...           36           49\n",
              "username                         11783   1303  ...          NaN          NaN\n",
              "video_title                      11783   1910  ...          NaN          NaN\n",
              "publish_time                     11783   1878  ...          NaN          NaN\n",
              "view_count                       11783    NaN  ...  6.96942e+06  1.50066e+08\n",
              "comment_count                    11783    NaN  ...        16928   1.1064e+06\n",
              "like_count                       11783    NaN  ...       360195  7.42521e+06\n",
              "dislike count                    11783    NaN  ...         7422       252543\n",
              "api_call_time                    11783    245  ...          NaN          NaN\n",
              "date_api_call_time               11783     62  ...          NaN          NaN\n",
              "hour_api_call_time               11783    NaN  ...           14           20\n",
              "tokenised_title                  11783   1866  ...          NaN          NaN\n",
              "tokenised_titles_with_stopwords  11783   1875  ...          NaN          NaN\n",
              "genre                            11783      5  ...          NaN          NaN\n",
              "words_in_names                   11582   1231  ...          NaN          NaN\n",
              "\n",
              "[16 rows x 11 columns]"
            ]
          },
          "metadata": {
            "tags": []
          },
          "execution_count": 5
        }
      ]
    },
    {
      "cell_type": "code",
      "metadata": {
        "colab": {
          "base_uri": "https://localhost:8080/"
        },
        "id": "VfHL9Hs_1Y9O",
        "outputId": "160a0758-9fb0-4042-e7fa-3d50c42cf9d0"
      },
      "source": [
        "youtube_data.columns.values"
      ],
      "execution_count": null,
      "outputs": [
        {
          "output_type": "execute_result",
          "data": {
            "text/plain": [
              "array(['Unnamed: 0', 'reference_index', 'username', 'video_title',\n",
              "       'publish_time', 'view_count', 'comment_count', 'like_count',\n",
              "       'dislike count', 'api_call_time', 'date_api_call_time',\n",
              "       'hour_api_call_time', 'tokenised_title',\n",
              "       'tokenised_titles_with_stopwords', 'genre', 'words_in_names'],\n",
              "      dtype=object)"
            ]
          },
          "metadata": {
            "tags": []
          },
          "execution_count": 6
        }
      ]
    },
    {
      "cell_type": "markdown",
      "metadata": {
        "id": "hsHy-BHkywRT"
      },
      "source": [
        "## Wrangling Data into required format for analysis"
      ]
    },
    {
      "cell_type": "code",
      "metadata": {
        "id": "yoqOaNMsRzIa"
      },
      "source": [
        "#keep title with min amount of videos i.e first time video appear on the youtube trending tab\n",
        "\n",
        "youtube_min_views = youtube_data.drop_duplicates(subset=['publish_time','username','video_title'], \n",
        "                                                 keep='first')[['publish_time', 'date_api_call_time', 'username','video_title', 'tokenised_title',\n",
        "                                                                'genre', 'words_in_names', 'view_count']]\n",
        "\n",
        "#keep last title that appears on the youtube trending tab i.e. youtube video with most views\n",
        "youtube_max_views = youtube_data.drop_duplicates(subset=['publish_time','username','video_title'], \n",
        "                                                 keep='last')[['publish_time','username','video_title','view_count', 'date_api_call_time']]\n",
        "\n",
        "#merging both min and max views dataframe and then renaming columns\n",
        "youtube_views = pd.merge(youtube_min_views, youtube_max_views, how = 'left', on = ['publish_time','username','video_title'])\n",
        "youtube_views = youtube_views.rename(columns = {'view_count_x': 'min_views',\n",
        "                                'view_count_y': 'max_views',\n",
        "                                'date_api_call_time_x' : 'entry_date',\n",
        "                                'date_api_call_time_y':'exit_date'})   \n",
        "\n",
        "#calculating the percentage increase                                                           \n",
        "view_increase = youtube_views['max_views'] - youtube_views['min_views'] \n",
        "percentage_view_increase = view_increase/youtube_views['min_views'] \n",
        "\n",
        "youtube_views['percentage_view_increase'] = percentage_view_increase \n",
        "\n",
        "#VALIDITY , bots removed observations that decreased or had no increase in viewership\n",
        "youtube_views = youtube_views[youtube_views['percentage_view_increase'] > 0]"
      ],
      "execution_count": null,
      "outputs": []
    },
    {
      "cell_type": "markdown",
      "metadata": {
        "id": "6yaebLmWy4x3"
      },
      "source": [
        "## Performing Sentiment Anaysis on Twitch Data using Vader and Emote-controlled\n",
        "\n",
        "\n",
        "\n",
        "Vader reference:\n",
        "\n",
        "Hutto, C. and Gilbert, E., 2014, May. Vader: A parsimonious rule-based model for sentiment analysis of social media text. In Proceedings of the International AAAI Conference on Web and Social Media (Vol. 8, No. 1).\n",
        "\n",
        "\n"
      ]
    },
    {
      "cell_type": "code",
      "metadata": {
        "colab": {
          "base_uri": "https://localhost:8080/"
        },
        "id": "wONpE5i_-jLp",
        "outputId": "b857588b-2e3c-4f8e-dcad-cff66732cd85"
      },
      "source": [
        "from nltk.sentiment.vader import SentimentIntensityAnalyzer\n",
        "import nltk\n",
        "#downloading vader lexincon but what is vader lexicon???????\n",
        "nltk.download('vader_lexicon')"
      ],
      "execution_count": null,
      "outputs": [
        {
          "output_type": "stream",
          "text": [
            "[nltk_data] Downloading package vader_lexicon to /root/nltk_data...\n"
          ],
          "name": "stdout"
        },
        {
          "output_type": "stream",
          "text": [
            "/usr/local/lib/python3.7/dist-packages/nltk/twitter/__init__.py:20: UserWarning: The twython library has not been installed. Some functionality from the twitter package will not be available.\n",
            "  warnings.warn(\"The twython library has not been installed. \"\n"
          ],
          "name": "stderr"
        },
        {
          "output_type": "execute_result",
          "data": {
            "text/plain": [
              "True"
            ]
          },
          "metadata": {
            "tags": []
          },
          "execution_count": 3
        }
      ]
    },
    {
      "cell_type": "code",
      "metadata": {
        "id": "Etonjqiz-DyZ"
      },
      "source": [
        "def sentiment_analyser(doc):\n",
        "#making long string from each token\n",
        "  # doc = ' '.join(word for word in doc) \n",
        "  sid = SentimentIntensityAnalyzer()\n",
        "  output = sid.polarity_scores(doc)\n",
        "  sentiment = output['compound']\n",
        "  return sentiment\n",
        "\n",
        "youtube_views['sentiment'] = youtube_views['video_title'].apply(lambda x: sentiment_analyser(str(x)))"
      ],
      "execution_count": null,
      "outputs": []
    },
    {
      "cell_type": "markdown",
      "metadata": {
        "id": "5EalmcpS5sAt"
      },
      "source": [
        "## Nominal Realism Extraction from Social Media Usernames using Afinn\n",
        "\n",
        "Afinn reference:\n",
        "\n",
        "Nielsen, F.Å., 2011. A new ANEW: Evaluation of a word list for sentiment analysis in microblogs. arXiv preprint arXiv:1103.2903."
      ]
    },
    {
      "cell_type": "code",
      "metadata": {
        "colab": {
          "base_uri": "https://localhost:8080/"
        },
        "id": "tU7_mHu67tzs",
        "outputId": "79ea6676-6685-4fb7-af54-d11565ac23be"
      },
      "source": [
        "!pip install afinn"
      ],
      "execution_count": null,
      "outputs": [
        {
          "output_type": "stream",
          "text": [
            "Collecting afinn\n",
            "  Downloading afinn-0.1.tar.gz (52 kB)\n",
            "\u001b[?25l\r\u001b[K     |██████▎                         | 10 kB 14.7 MB/s eta 0:00:01\r\u001b[K     |████████████▌                   | 20 kB 16.3 MB/s eta 0:00:01\r\u001b[K     |██████████████████▊             | 30 kB 20.4 MB/s eta 0:00:01\r\u001b[K     |█████████████████████████       | 40 kB 14.9 MB/s eta 0:00:01\r\u001b[K     |███████████████████████████████▏| 51 kB 8.6 MB/s eta 0:00:01\r\u001b[K     |████████████████████████████████| 52 kB 1.2 MB/s \n",
            "\u001b[?25hBuilding wheels for collected packages: afinn\n",
            "  Building wheel for afinn (setup.py) ... \u001b[?25l\u001b[?25hdone\n",
            "  Created wheel for afinn: filename=afinn-0.1-py3-none-any.whl size=53447 sha256=58c63f13c6243931152b3a17007fa675334b2d0e1ad9d633b93e02790ac128d0\n",
            "  Stored in directory: /root/.cache/pip/wheels/9d/16/3a/9f0953027434eab5dadf3f33ab3298fa95afa8292fcf7aba75\n",
            "Successfully built afinn\n",
            "Installing collected packages: afinn\n",
            "Successfully installed afinn-0.1\n"
          ],
          "name": "stdout"
        }
      ]
    },
    {
      "cell_type": "code",
      "metadata": {
        "id": "bYojJI72lvLN"
      },
      "source": [
        "from afinn import Afinn\n",
        "\n",
        "def name_sentiment_analyser(name):\n",
        "#making long string from each token\n",
        "  try:\n",
        "    #finding words in string of list of words\n",
        "    #bypassing string datatype and reading it as list with 'eval'\n",
        "    doc = eval(name)\n",
        "    #initiating affinity lexicon\n",
        "    afinn = Afinn(emoticons=True)\n",
        "    #finding word with largest absolute polarity in name\n",
        "    score = max([afinn.score(word) for word in doc], key=abs)\n",
        "    return score\n",
        "    #error handeling of NaN values\n",
        "  except:\n",
        "    pass"
      ],
      "execution_count": null,
      "outputs": []
    },
    {
      "cell_type": "code",
      "metadata": {
        "id": "jACXlyXN-O8b"
      },
      "source": [
        "#extracting nominal realism from words\n",
        " \n",
        "\n",
        "youtube_views['name_sentiment'] = youtube_views['words_in_names'].apply(lambda x: name_sentiment_analyser(x))\n"
      ],
      "execution_count": null,
      "outputs": []
    },
    {
      "cell_type": "markdown",
      "metadata": {
        "id": "cInmvkxXrCZd"
      },
      "source": [
        "## Labelling polarity of usernames and titles"
      ]
    },
    {
      "cell_type": "code",
      "metadata": {
        "id": "ttx4E1JWrBv_"
      },
      "source": [
        "youtube_views['sentiment'] = youtube_views['sentiment'].fillna(0)\n",
        "youtube_views['name_sentiment'] = youtube_views['name_sentiment'].fillna(0)"
      ],
      "execution_count": null,
      "outputs": []
    },
    {
      "cell_type": "code",
      "metadata": {
        "id": "qv0EqLxwp0gu"
      },
      "source": [
        "def polarity_detector(score):\n",
        "  if score < 0:\n",
        "    return 'negative'\n",
        "  elif score > 0:\n",
        "    return 'positive'\n",
        "  else:\n",
        "    return 'neutral'"
      ],
      "execution_count": null,
      "outputs": []
    },
    {
      "cell_type": "code",
      "metadata": {
        "id": "2cFPYSYvqWW-"
      },
      "source": [
        "#labelling username and name polarity\n",
        "\n",
        "youtube_views['sentiment_polarity'] = youtube_views['sentiment'].apply(lambda x: polarity_detector(x))\n",
        "youtube_views['name_sentiment_polarity'] = youtube_views['name_sentiment'].apply(lambda x: polarity_detector(x))"
      ],
      "execution_count": null,
      "outputs": []
    },
    {
      "cell_type": "markdown",
      "metadata": {
        "id": "Q3I0V4Gc6KrO"
      },
      "source": [
        "## Emotion Detection in titles using NRCLex\n",
        "\n",
        "Mohammad, S.M. and Turney, P.D., 2013. Nrc emotion lexicon. National Research Council, Canada, 2."
      ]
    },
    {
      "cell_type": "code",
      "metadata": {
        "colab": {
          "base_uri": "https://localhost:8080/"
        },
        "id": "uS1nkvL6hofh",
        "outputId": "7d5701d9-5584-4e7b-847f-2e33f2eb5d88"
      },
      "source": [
        "!pip install NRCLex"
      ],
      "execution_count": null,
      "outputs": [
        {
          "output_type": "stream",
          "text": [
            "Collecting NRCLex\n",
            "  Downloading NRCLex-3.0.0.tar.gz (396 kB)\n",
            "\u001b[?25l\r\u001b[K     |▉                               | 10 kB 23.2 MB/s eta 0:00:01\r\u001b[K     |█▋                              | 20 kB 29.8 MB/s eta 0:00:01\r\u001b[K     |██▌                             | 30 kB 35.4 MB/s eta 0:00:01\r\u001b[K     |███▎                            | 40 kB 39.0 MB/s eta 0:00:01\r\u001b[K     |████▏                           | 51 kB 10.0 MB/s eta 0:00:01\r\u001b[K     |█████                           | 61 kB 11.4 MB/s eta 0:00:01\r\u001b[K     |█████▉                          | 71 kB 9.5 MB/s eta 0:00:01\r\u001b[K     |██████▋                         | 81 kB 10.6 MB/s eta 0:00:01\r\u001b[K     |███████▍                        | 92 kB 11.7 MB/s eta 0:00:01\r\u001b[K     |████████▎                       | 102 kB 9.0 MB/s eta 0:00:01\r\u001b[K     |█████████                       | 112 kB 9.0 MB/s eta 0:00:01\r\u001b[K     |██████████                      | 122 kB 9.0 MB/s eta 0:00:01\r\u001b[K     |██████████▊                     | 133 kB 9.0 MB/s eta 0:00:01\r\u001b[K     |███████████▋                    | 143 kB 9.0 MB/s eta 0:00:01\r\u001b[K     |████████████▍                   | 153 kB 9.0 MB/s eta 0:00:01\r\u001b[K     |█████████████▎                  | 163 kB 9.0 MB/s eta 0:00:01\r\u001b[K     |██████████████                  | 174 kB 9.0 MB/s eta 0:00:01\r\u001b[K     |██████████████▉                 | 184 kB 9.0 MB/s eta 0:00:01\r\u001b[K     |███████████████▊                | 194 kB 9.0 MB/s eta 0:00:01\r\u001b[K     |████████████████▌               | 204 kB 9.0 MB/s eta 0:00:01\r\u001b[K     |█████████████████▍              | 215 kB 9.0 MB/s eta 0:00:01\r\u001b[K     |██████████████████▏             | 225 kB 9.0 MB/s eta 0:00:01\r\u001b[K     |███████████████████             | 235 kB 9.0 MB/s eta 0:00:01\r\u001b[K     |███████████████████▉            | 245 kB 9.0 MB/s eta 0:00:01\r\u001b[K     |████████████████████▊           | 256 kB 9.0 MB/s eta 0:00:01\r\u001b[K     |█████████████████████▌          | 266 kB 9.0 MB/s eta 0:00:01\r\u001b[K     |██████████████████████▎         | 276 kB 9.0 MB/s eta 0:00:01\r\u001b[K     |███████████████████████▏        | 286 kB 9.0 MB/s eta 0:00:01\r\u001b[K     |████████████████████████        | 296 kB 9.0 MB/s eta 0:00:01\r\u001b[K     |████████████████████████▉       | 307 kB 9.0 MB/s eta 0:00:01\r\u001b[K     |█████████████████████████▋      | 317 kB 9.0 MB/s eta 0:00:01\r\u001b[K     |██████████████████████████▌     | 327 kB 9.0 MB/s eta 0:00:01\r\u001b[K     |███████████████████████████▎    | 337 kB 9.0 MB/s eta 0:00:01\r\u001b[K     |████████████████████████████    | 348 kB 9.0 MB/s eta 0:00:01\r\u001b[K     |█████████████████████████████   | 358 kB 9.0 MB/s eta 0:00:01\r\u001b[K     |█████████████████████████████▊  | 368 kB 9.0 MB/s eta 0:00:01\r\u001b[K     |██████████████████████████████▋ | 378 kB 9.0 MB/s eta 0:00:01\r\u001b[K     |███████████████████████████████▍| 389 kB 9.0 MB/s eta 0:00:01\r\u001b[K     |████████████████████████████████| 396 kB 9.0 MB/s \n",
            "\u001b[?25hRequirement already satisfied: textblob in /usr/local/lib/python3.7/dist-packages (from NRCLex) (0.15.3)\n",
            "Requirement already satisfied: nltk>=3.1 in /usr/local/lib/python3.7/dist-packages (from textblob->NRCLex) (3.2.5)\n",
            "Requirement already satisfied: six in /usr/local/lib/python3.7/dist-packages (from nltk>=3.1->textblob->NRCLex) (1.15.0)\n",
            "Building wheels for collected packages: NRCLex\n",
            "  Building wheel for NRCLex (setup.py) ... \u001b[?25l\u001b[?25hdone\n",
            "  Created wheel for NRCLex: filename=NRCLex-3.0.0-py3-none-any.whl size=43328 sha256=6767236d087e4439c8aa6a191e5eb7c78a5ad3d7b3d0be9082a515b2e9f6d474\n",
            "  Stored in directory: /root/.cache/pip/wheels/af/2c/9c/dfa19d1b65326c520b32850a9311f6d4eda679ac04dba26081\n",
            "Successfully built NRCLex\n",
            "Installing collected packages: NRCLex\n",
            "Successfully installed NRCLex-3.0.0\n"
          ],
          "name": "stdout"
        }
      ]
    },
    {
      "cell_type": "code",
      "metadata": {
        "colab": {
          "base_uri": "https://localhost:8080/"
        },
        "id": "jE85b8tnhrax",
        "outputId": "7d1e2220-39a3-4547-a2c1-77373954a517"
      },
      "source": [
        "!python -m textblob.download_corpora"
      ],
      "execution_count": null,
      "outputs": [
        {
          "output_type": "stream",
          "text": [
            "[nltk_data] Downloading package brown to /root/nltk_data...\n",
            "[nltk_data]   Unzipping corpora/brown.zip.\n",
            "[nltk_data] Downloading package punkt to /root/nltk_data...\n",
            "[nltk_data]   Unzipping tokenizers/punkt.zip.\n",
            "[nltk_data] Downloading package wordnet to /root/nltk_data...\n",
            "[nltk_data]   Unzipping corpora/wordnet.zip.\n",
            "[nltk_data] Downloading package averaged_perceptron_tagger to\n",
            "[nltk_data]     /root/nltk_data...\n",
            "[nltk_data]   Unzipping taggers/averaged_perceptron_tagger.zip.\n",
            "[nltk_data] Downloading package conll2000 to /root/nltk_data...\n",
            "[nltk_data]   Unzipping corpora/conll2000.zip.\n",
            "[nltk_data] Downloading package movie_reviews to /root/nltk_data...\n",
            "[nltk_data]   Unzipping corpora/movie_reviews.zip.\n",
            "Finished.\n"
          ],
          "name": "stdout"
        }
      ]
    },
    {
      "cell_type": "code",
      "metadata": {
        "id": "3ycWedrLd1Lx"
      },
      "source": [
        "from nrclex import NRCLex\n",
        "\n",
        "def emotion_detector(doc):\n",
        "  ''' detects emotion in each word of a title using NRCLex'''\n",
        "\n",
        "  try:\n",
        "    #detecting emotion for each word\n",
        "    doc = eval(doc)\n",
        "    all_emotions  = [NRCLex(i).affect_frequencies for i in doc]\n",
        "    #formatting all the different emorion dictionarus as dataframes\n",
        "    all_emotions = [pd.DataFrame(df, index=[i]) for i, df in enumerate(all_emotions)]\n",
        "    #getting max emotion from words\n",
        "    all_emotions = dict(pd.concat(all_emotions).max())\n",
        "    return all_emotions \n",
        "  except:\n",
        "    pass\n"
      ],
      "execution_count": null,
      "outputs": []
    },
    {
      "cell_type": "code",
      "metadata": {
        "colab": {
          "base_uri": "https://localhost:8080/"
        },
        "id": "OavsWQXgecOg",
        "outputId": "22338551-a6ed-4d1c-96c6-ec587e3ab7cd"
      },
      "source": [
        "youtube_views.columns.values"
      ],
      "execution_count": null,
      "outputs": [
        {
          "output_type": "execute_result",
          "data": {
            "text/plain": [
              "array(['publish_time', 'entry_date', 'username', 'video_title', 'genre',\n",
              "       'words_in_names', 'min_views', 'max_views', 'exit_date',\n",
              "       'percentage_view_increase', 'sentiment', 'name_sentiment'],\n",
              "      dtype=object)"
            ]
          },
          "metadata": {
            "tags": []
          },
          "execution_count": 14
        }
      ]
    },
    {
      "cell_type": "code",
      "metadata": {
        "id": "3uBtkS8Kd6Su"
      },
      "source": [
        "#computing emotion detection using NRCLex on titles\n",
        " \n",
        "\n",
        "youtube_views['emotion'] = youtube_views['tokenised_title'].apply(lambda x: emotion_detector(x))"
      ],
      "execution_count": null,
      "outputs": []
    },
    {
      "cell_type": "code",
      "metadata": {
        "colab": {
          "base_uri": "https://localhost:8080/"
        },
        "id": "hSqd1ydEEkXe",
        "outputId": "9490e217-5920-477e-f000-03ca6a85d7e9"
      },
      "source": [
        "youtube_views['genre'].unique()"
      ],
      "execution_count": null,
      "outputs": [
        {
          "output_type": "execute_result",
          "data": {
            "text/plain": [
              "array(['Traditional Media', 'Youtuber', 'Music', 'Trailer', 'Commercial'],\n",
              "      dtype=object)"
            ]
          },
          "metadata": {
            "tags": []
          },
          "execution_count": 74
        }
      ]
    },
    {
      "cell_type": "code",
      "metadata": {
        "id": "9GfwErb_EXmZ"
      },
      "source": [
        "df = youtube_views[youtube_views['genre'] == 'Music']"
      ],
      "execution_count": null,
      "outputs": []
    },
    {
      "cell_type": "code",
      "metadata": {
        "id": "dOK7hHxBh4oy"
      },
      "source": [
        "emotion_list = []\n",
        "\n",
        "#preprocessing emotion list to handle potential errors\n",
        "for i in youtube_views['emotion'].tolist():\n",
        "  try:\n",
        "    i = eval(i)\n",
        "    emotion_list.append(i)\n",
        "  except:\n",
        "    continue\n",
        "\n",
        "#formatting all the emotion dictionaries as dataframes\n",
        "df_emotions_holder = [pd.DataFrame(df, index=[i]) for i, df in enumerate(emotion_list)]\n",
        "#cocatenating all the mini dataframes\n",
        "emotions = pd.concat(df_emotions_holder)"
      ],
      "execution_count": null,
      "outputs": []
    },
    {
      "cell_type": "code",
      "metadata": {
        "id": "TgFRxlDJeBqQ"
      },
      "source": [
        "import numpy as np\n",
        "#filling na values in anticipation column with 0\n",
        "emotions_plutchik = emotions.fillna(0)\n",
        "emotions_plutchik = emotions_plutchik.replace({0:np.nan, 0:np.nan})\n",
        "# #dropping columns of emotions not analysied\n",
        "emotions_plutchik = emotions_plutchik.drop(columns=['anticip', 'positive', 'negative'])"
      ],
      "execution_count": null,
      "outputs": []
    },
    {
      "cell_type": "code",
      "metadata": {
        "colab": {
          "base_uri": "https://localhost:8080/"
        },
        "id": "ZUUf3-BBWJIH",
        "outputId": "1cf4bf62-bc20-46a3-bb0b-1356f5d36c4e"
      },
      "source": [
        "#This scale factor is defined as the total number of observations divided by the number of times a unique emotion is detected.\n",
        "\n",
        "#1451/ len(emotions_plutchik_scaled[emotions_plutchik_scaled['disgust'].notna()]['disgust']) * emotions_plutchik['disgust'].mean()"
      ],
      "execution_count": null,
      "outputs": [
        {
          "output_type": "execute_result",
          "data": {
            "text/plain": [
              "0.2754155730533683"
            ]
          },
          "metadata": {
            "tags": []
          },
          "execution_count": 68
        }
      ]
    },
    {
      "cell_type": "markdown",
      "metadata": {
        "id": "vF4P8REnNKkH"
      },
      "source": [
        "## Creating Plutchik Wheel of detected Emotions\n",
        "\n",
        "Semeraro, A., Vilella, S. and Ruffo, G., 2021. PyPlutchik: visualising and comparing emotion-annotated corpora. arXiv preprint arXiv:2105.04295."
      ]
    },
    {
      "cell_type": "code",
      "metadata": {
        "colab": {
          "base_uri": "https://localhost:8080/"
        },
        "id": "1GcpP9YahuzJ",
        "outputId": "51091f30-5432-48c6-c088-6382019377ae"
      },
      "source": [
        "!pip install pyplutchik"
      ],
      "execution_count": null,
      "outputs": [
        {
          "output_type": "stream",
          "text": [
            "Collecting pyplutchik\n",
            "  Downloading pyplutchik-0.0.7-py2.py3-none-any.whl (9.9 kB)\n",
            "Requirement already satisfied: descartes in /usr/local/lib/python3.7/dist-packages (from pyplutchik) (1.1.0)\n",
            "Requirement already satisfied: pandas in /usr/local/lib/python3.7/dist-packages (from pyplutchik) (1.1.5)\n",
            "Requirement already satisfied: numpy in /usr/local/lib/python3.7/dist-packages (from pyplutchik) (1.19.5)\n",
            "Requirement already satisfied: matplotlib in /usr/local/lib/python3.7/dist-packages (from pyplutchik) (3.2.2)\n",
            "Requirement already satisfied: shapely in /usr/local/lib/python3.7/dist-packages (from pyplutchik) (1.7.1)\n",
            "Requirement already satisfied: pyparsing!=2.0.4,!=2.1.2,!=2.1.6,>=2.0.1 in /usr/local/lib/python3.7/dist-packages (from matplotlib->pyplutchik) (2.4.7)\n",
            "Requirement already satisfied: cycler>=0.10 in /usr/local/lib/python3.7/dist-packages (from matplotlib->pyplutchik) (0.10.0)\n",
            "Requirement already satisfied: python-dateutil>=2.1 in /usr/local/lib/python3.7/dist-packages (from matplotlib->pyplutchik) (2.8.1)\n",
            "Requirement already satisfied: kiwisolver>=1.0.1 in /usr/local/lib/python3.7/dist-packages (from matplotlib->pyplutchik) (1.3.1)\n",
            "Requirement already satisfied: six in /usr/local/lib/python3.7/dist-packages (from cycler>=0.10->matplotlib->pyplutchik) (1.15.0)\n",
            "Requirement already satisfied: pytz>=2017.2 in /usr/local/lib/python3.7/dist-packages (from pandas->pyplutchik) (2018.9)\n",
            "Installing collected packages: pyplutchik\n",
            "Successfully installed pyplutchik-0.0.7\n"
          ],
          "name": "stdout"
        }
      ]
    },
    {
      "cell_type": "code",
      "metadata": {
        "colab": {
          "base_uri": "https://localhost:8080/",
          "height": 483
        },
        "id": "wUc09uWSjfYZ",
        "outputId": "4d587874-5cf1-4954-d4a0-1fa10768ec6f"
      },
      "source": [
        "from pyplutchik import plutchik\n",
        "import matplotlib.pyplot as plt\n",
        "from random import uniform\n",
        "\n",
        "#Must be one of 'joy', 'trust', 'fear', 'surprise', 'sadness', 'disgust', 'anger', 'anticipation'\n",
        "\n",
        "\n",
        "plutchik(dict(emotions_plutchik.mean()))"
      ],
      "execution_count": null,
      "outputs": [
        {
          "output_type": "execute_result",
          "data": {
            "text/plain": [
              "<matplotlib.axes._subplots.AxesSubplot at 0x7effe46f4450>"
            ]
          },
          "metadata": {
            "tags": []
          },
          "execution_count": 33
        },
        {
          "output_type": "display_data",
          "data": {
            "image/png": "[encoded data removed]",
            "text/plain": [
              "<Figure size 576x576 with 1 Axes>"
            ]
          },
          "metadata": {
            "tags": [],
            "needs_background": "light"
          }
        }
      ]
    },
    {
      "cell_type": "markdown",
      "metadata": {
        "id": "wIdTnV2DAkmY"
      },
      "source": [
        "# Analysing influence of sentiment on viewership performance"
      ]
    },
    {
      "cell_type": "markdown",
      "metadata": {
        "id": "ap2UyIzSSy0x"
      },
      "source": [
        "### Reading in data to not have to rerun sentiment analysis code"
      ]
    },
    {
      "cell_type": "code",
      "metadata": {
        "id": "9Djzef875w67"
      },
      "source": [
        "import pandas as pd\n",
        "\n",
        "youtube_views = pd.read_csv('https://raw.githubusercontent.com/JefNtungila/Sentiment-Analysis-of-Usernames-and-Titles-on-YouTube-and-Twitch/main/data/youtube_views.csv')\n",
        "#dropping few values for which no emotion was returned\n",
        "youtube_views = youtube_views[youtube_views['emotion'].notna()]\n",
        "#converting percentage increase to values to actual scale\n",
        "youtube_views['percentage_increase'] = round(youtube_views['percentage_view_increase']*100)"
      ],
      "execution_count": 1,
      "outputs": []
    },
    {
      "cell_type": "markdown",
      "metadata": {
        "id": "RHoa9eOzU3EX"
      },
      "source": [
        "## Producing percentage valence polarity per genre"
      ]
    },
    {
      "cell_type": "code",
      "metadata": {
        "colab": {
          "base_uri": "https://localhost:8080/"
        },
        "id": "91PGW3JPU4cd",
        "outputId": "6d3daf43-6ea4-430f-e294-6f985e399dbd"
      },
      "source": [
        "#percentage polarity per genre \n",
        "youtube_views[youtube_views['genre'] == 'Trailer']['name_sentiment_polarity'].value_counts(normalize = True)"
      ],
      "execution_count": 8,
      "outputs": [
        {
          "output_type": "execute_result",
          "data": {
            "text/plain": [
              "neutral     0.724138\n",
              "negative    0.241379\n",
              "positive    0.034483\n",
              "Name: name_sentiment_polarity, dtype: float64"
            ]
          },
          "metadata": {},
          "execution_count": 8
        }
      ]
    },
    {
      "cell_type": "code",
      "metadata": {
        "colab": {
          "base_uri": "https://localhost:8080/"
        },
        "id": "b9rIJChwVIha",
        "outputId": "0b74d5d4-d5f3-4adb-b888-1275af9c8ff2"
      },
      "source": [
        "#percentage polarity per genre \n",
        "youtube_views[youtube_views['genre'] == 'Commercial']['name_sentiment_polarity'].value_counts(normalize = True)"
      ],
      "execution_count": 9,
      "outputs": [
        {
          "output_type": "execute_result",
          "data": {
            "text/plain": [
              "neutral     0.807692\n",
              "negative    0.134615\n",
              "positive    0.057692\n",
              "Name: name_sentiment_polarity, dtype: float64"
            ]
          },
          "metadata": {},
          "execution_count": 9
        }
      ]
    },
    {
      "cell_type": "code",
      "metadata": {
        "colab": {
          "base_uri": "https://localhost:8080/"
        },
        "id": "7SDIMzM-VNoz",
        "outputId": "b0d8d549-96b9-4c5a-9a7a-342679e67ccc"
      },
      "source": [
        "#percentage polarity per genre \n",
        "youtube_views[youtube_views['genre'] == 'Music']['name_sentiment_polarity'].value_counts(normalize = True)"
      ],
      "execution_count": 10,
      "outputs": [
        {
          "output_type": "execute_result",
          "data": {
            "text/plain": [
              "neutral     0.693069\n",
              "positive    0.168317\n",
              "negative    0.138614\n",
              "Name: name_sentiment_polarity, dtype: float64"
            ]
          },
          "metadata": {},
          "execution_count": 10
        }
      ]
    },
    {
      "cell_type": "code",
      "metadata": {
        "colab": {
          "base_uri": "https://localhost:8080/"
        },
        "id": "_IgwhWa9VaqF",
        "outputId": "3d68ea84-557f-4f72-a39d-4e2f6d7d7b41"
      },
      "source": [
        "#percentage polarity per genre \n",
        "youtube_views[youtube_views['genre'] == 'Traditional Media']['name_sentiment_polarity'].value_counts(normalize = True)"
      ],
      "execution_count": 11,
      "outputs": [
        {
          "output_type": "execute_result",
          "data": {
            "text/plain": [
              "neutral     0.768061\n",
              "positive    0.182510\n",
              "negative    0.049430\n",
              "Name: name_sentiment_polarity, dtype: float64"
            ]
          },
          "metadata": {},
          "execution_count": 11
        }
      ]
    },
    {
      "cell_type": "code",
      "metadata": {
        "colab": {
          "base_uri": "https://localhost:8080/"
        },
        "id": "G6Ra7Z96VhTh",
        "outputId": "7411ed23-92a2-4741-a732-a5420488dc5f"
      },
      "source": [
        "#percentage polarity per genre \n",
        "youtube_views[youtube_views['genre'] == 'Youtuber']['name_sentiment_polarity'].value_counts(normalize = True)"
      ],
      "execution_count": 12,
      "outputs": [
        {
          "output_type": "execute_result",
          "data": {
            "text/plain": [
              "neutral     0.754696\n",
              "positive    0.156906\n",
              "negative    0.088398\n",
              "Name: name_sentiment_polarity, dtype: float64"
            ]
          },
          "metadata": {},
          "execution_count": 12
        }
      ]
    },
    {
      "cell_type": "markdown",
      "metadata": {
        "id": "_LyOHX1joFdS"
      },
      "source": [
        "## Analysing boxplots of percentage increase viewership per genre"
      ]
    },
    {
      "cell_type": "code",
      "metadata": {
        "colab": {
          "base_uri": "https://localhost:8080/",
          "height": 313
        },
        "id": "yHPGLg01ToGE",
        "outputId": "82a43a29-b152-4fda-cd14-929fdfd61ad3"
      },
      "source": [
        "import seaborn as sns\n",
        "\n",
        "#investigating the influence of sentiment on viewership performance\n",
        "\n",
        "boxplot1 = sns.boxplot(x='sentiment_polarity', y='percentage_increase', \n",
        "                  data=youtube_views, whis=[0, 100], notch = True)\n",
        "boxplot1.set(yscale='log')\n",
        "boxplot1.set_title('Effect of Sentiment on Viewership Increase - YouTube')"
      ],
      "execution_count": 29,
      "outputs": [
        {
          "output_type": "execute_result",
          "data": {
            "text/plain": [
              "Text(0.5, 1.0, 'Effect of Sentiment on Viewership Increase - YouTube')"
            ]
          },
          "metadata": {},
          "execution_count": 29
        },
        {
          "output_type": "display_data",
          "data": {
            "image/png": "[encoded data removed]",
            "text/plain": [
              "<Figure size 432x288 with 1 Axes>"
            ]
          },
          "metadata": {
            "needs_background": "light"
          }
        }
      ]
    },
    {
      "cell_type": "code",
      "metadata": {
        "colab": {
          "base_uri": "https://localhost:8080/",
          "height": 313
        },
        "id": "uhSTR65Oo51W",
        "outputId": "905f8d4e-ee5d-43d5-e8db-f94fc6f7a283"
      },
      "source": [
        "import seaborn as sns\n",
        "\n",
        "boxplot2 = sns.boxplot(x='name_sentiment_polarity', y='percentage_increase', \n",
        "                  data=youtube_views, whis=[0, 100], notch = True)\n",
        "boxplot2.set(yscale='log')\n",
        "boxplot2.set_title('Effect of Name Sentiment on Viewership Increase - YouTube')"
      ],
      "execution_count": 30,
      "outputs": [
        {
          "output_type": "execute_result",
          "data": {
            "text/plain": [
              "Text(0.5, 1.0, 'Effect of Name Sentiment on Viewership Increase - YouTube')"
            ]
          },
          "metadata": {},
          "execution_count": 30
        },
        {
          "output_type": "display_data",
          "data": {
            "image/png": "[encoded data removed]",
            "text/plain": [
              "<Figure size 432x288 with 1 Axes>"
            ]
          },
          "metadata": {
            "needs_background": "light"
          }
        }
      ]
    },
    {
      "cell_type": "code",
      "metadata": {
        "id": "GJFFJVlQsWZy"
      },
      "source": [
        "def emotion_aggregator(emotion):\n",
        "  '''\n",
        "  function takes in emotion dictionary \n",
        "  and returns biggest value of emotion detected in series\n",
        "  '''\n",
        "  emotion = eval(emotion)\n",
        "  del emotion['negative']\n",
        "  del emotion['positive']\n",
        "  del emotion['anticip']\n",
        "  emotion = max(emotion, key=emotion.get)\n",
        "  return emotion"
      ],
      "execution_count": 15,
      "outputs": []
    },
    {
      "cell_type": "code",
      "metadata": {
        "id": "MeCTfcIbfvZL"
      },
      "source": [
        "#computing strongest emotion \n",
        "youtube_views['strongest_emotion'] = youtube_views['emotion'].apply(lambda x: emotion_aggregator(x))"
      ],
      "execution_count": 16,
      "outputs": []
    },
    {
      "cell_type": "code",
      "metadata": {
        "colab": {
          "base_uri": "https://localhost:8080/",
          "height": 313
        },
        "id": "jCa2yndWg7tp",
        "outputId": "c1e74903-9dbd-48a7-ddbb-9d9d30475a5f"
      },
      "source": [
        "\n",
        "#investigating influence of emotion on viewership performance\n",
        "\n",
        "\n",
        "\n",
        "boxplot3 = sns.boxplot(x='strongest_emotion', y='percentage_increase', \n",
        "                  data=youtube_views, whis=[0, 100], notch = True)\n",
        "boxplot3.set(yscale='log')\n",
        "boxplot3.set_title('Effect of Emotion on Viewership Increase - YouTube')"
      ],
      "execution_count": 17,
      "outputs": [
        {
          "output_type": "execute_result",
          "data": {
            "text/plain": [
              "Text(0.5, 1.0, 'Effect of Emotion on Viewership Increase - YouTube')"
            ]
          },
          "metadata": {},
          "execution_count": 17
        },
        {
          "output_type": "display_data",
          "data": {
            "image/png": "[encoded data removed]",
            "text/plain": [
              "<Figure size 432x288 with 1 Axes>"
            ]
          },
          "metadata": {
            "needs_background": "light"
          }
        }
      ]
    },
    {
      "cell_type": "markdown",
      "metadata": {
        "id": "2uvvJ2ohpIkE"
      },
      "source": [
        "## Computing median percentage increase in viewership and confidence interval of the point estimate"
      ]
    },
    {
      "cell_type": "code",
      "metadata": {
        "id": "rLfQa7fqbxUo"
      },
      "source": [
        "import numpy as np\n",
        "import scipy.stats as st\n",
        "\n",
        "def confidence_calc(data): \n",
        "  '''function takes a series in, computes the median\n",
        "   and then gives 95% confindece interval of the median'''\n",
        "  a,b = st.t.interval(alpha=0.95, df=len(data)-1, loc=np.median(data), scale=st.sem(data))\n",
        "  return (round(a), round(b))\n",
        "\n",
        "\n"
      ],
      "execution_count": 18,
      "outputs": []
    },
    {
      "cell_type": "code",
      "metadata": {
        "colab": {
          "base_uri": "https://localhost:8080/"
        },
        "id": "QA84btZwpCCP",
        "outputId": "515f7e65-afc9-409e-ff81-f22642210f95"
      },
      "source": [
        "youtube_views.groupby('sentiment_polarity').median()['percentage_increase']"
      ],
      "execution_count": 19,
      "outputs": [
        {
          "output_type": "execute_result",
          "data": {
            "text/plain": [
              "sentiment_polarity\n",
              "negative    39.5\n",
              "neutral     49.0\n",
              "positive    43.0\n",
              "Name: percentage_increase, dtype: float64"
            ]
          },
          "metadata": {},
          "execution_count": 19
        }
      ]
    },
    {
      "cell_type": "code",
      "metadata": {
        "colab": {
          "base_uri": "https://localhost:8080/"
        },
        "id": "r5nfA_oHjY6U",
        "outputId": "072bedc6-25f4-4c1d-b0cb-9af4def04c33"
      },
      "source": [
        "#computing 95% confidence interval for youtube views\n",
        "print(confidence_calc(youtube_views[youtube_views['sentiment_polarity']=='negative']['percentage_increase']))\n",
        "print(confidence_calc(youtube_views[youtube_views['sentiment_polarity']=='neutral']['percentage_increase']))\n",
        "print(confidence_calc(youtube_views[youtube_views['sentiment_polarity']=='positive']['percentage_increase']))"
      ],
      "execution_count": 20,
      "outputs": [
        {
          "output_type": "stream",
          "name": "stdout",
          "text": [
            "(2, 77)\n",
            "(31, 67)\n",
            "(26, 60)\n"
          ]
        }
      ]
    },
    {
      "cell_type": "code",
      "metadata": {
        "colab": {
          "base_uri": "https://localhost:8080/"
        },
        "id": "tcXBvtm6IAsP",
        "outputId": "ff309524-fc09-4e4b-c806-c93c7e5425be"
      },
      "source": [
        "youtube_views.groupby('name_sentiment_polarity').median()['percentage_increase']"
      ],
      "execution_count": 21,
      "outputs": [
        {
          "output_type": "execute_result",
          "data": {
            "text/plain": [
              "name_sentiment_polarity\n",
              "negative    47.0\n",
              "neutral     45.5\n",
              "positive    54.5\n",
              "Name: percentage_increase, dtype: float64"
            ]
          },
          "metadata": {},
          "execution_count": 21
        }
      ]
    },
    {
      "cell_type": "code",
      "metadata": {
        "colab": {
          "base_uri": "https://localhost:8080/"
        },
        "id": "DwhlliRiIn18",
        "outputId": "d0c7fa69-02af-4881-eca6-10863d4f8316"
      },
      "source": [
        "#computing confidence interval of median values\n",
        "print(confidence_calc(youtube_views[youtube_views['name_sentiment_polarity']=='negative']['percentage_increase']))\n",
        "print(confidence_calc(youtube_views[youtube_views['name_sentiment_polarity']=='neutral']['percentage_increase']))\n",
        "print(confidence_calc(youtube_views[youtube_views['name_sentiment_polarity']=='positive']['percentage_increase']))"
      ],
      "execution_count": 22,
      "outputs": [
        {
          "output_type": "stream",
          "name": "stdout",
          "text": [
            "(12, 82)\n",
            "(35, 56)\n",
            "(-8, 117)\n"
          ]
        }
      ]
    },
    {
      "cell_type": "code",
      "metadata": {
        "colab": {
          "base_uri": "https://localhost:8080/"
        },
        "id": "7ygrKV1niQq2",
        "outputId": "3aaf9637-7a60-423d-d6e7-180fa9bf1fc3"
      },
      "source": [
        "youtube_views.groupby('strongest_emotion').median()['percentage_increase']"
      ],
      "execution_count": 23,
      "outputs": [
        {
          "output_type": "execute_result",
          "data": {
            "text/plain": [
              "strongest_emotion\n",
              "anger           56.0\n",
              "anticipation    37.0\n",
              "disgust         30.0\n",
              "fear            43.0\n",
              "joy             47.0\n",
              "sadness         44.0\n",
              "surprise        52.5\n",
              "trust           66.0\n",
              "Name: percentage_increase, dtype: float64"
            ]
          },
          "metadata": {},
          "execution_count": 23
        }
      ]
    },
    {
      "cell_type": "code",
      "metadata": {
        "colab": {
          "base_uri": "https://localhost:8080/"
        },
        "id": "TzCP6CiehroX",
        "outputId": "0c90c36a-1813-404f-9dba-cda9b5763304"
      },
      "source": [
        "#producing confidence interval for effect of different emotions on viewership\n",
        "\n",
        "print(confidence_calc(youtube_views[youtube_views['strongest_emotion']=='sadness']['percentage_increase']))\n",
        "print(confidence_calc(youtube_views[youtube_views['strongest_emotion']=='fear']['percentage_increase']))\n",
        "print(confidence_calc(youtube_views[youtube_views['strongest_emotion']=='surprise']['percentage_increase']))\n",
        "\n",
        "print(confidence_calc(youtube_views[youtube_views['strongest_emotion']=='trust']['percentage_increase']))\n",
        "print(confidence_calc(youtube_views[youtube_views['strongest_emotion']=='anticipation']['percentage_increase']))\n",
        "print(confidence_calc(youtube_views[youtube_views['strongest_emotion']=='joy']['percentage_increase']))\n",
        "\n",
        "\n",
        "print(confidence_calc(youtube_views[youtube_views['strongest_emotion']=='anger']['percentage_increase']))\n",
        "print(confidence_calc(youtube_views[youtube_views['strongest_emotion']=='disgust']['percentage_increase']))\n",
        "\n",
        "\n"
      ],
      "execution_count": 24,
      "outputs": [
        {
          "output_type": "stream",
          "name": "stdout",
          "text": [
            "(22, 66)\n",
            "(26, 60)\n",
            "(-32, 137)\n",
            "(38, 94)\n",
            "(-7, 81)\n",
            "(1, 93)\n",
            "(-7, 119)\n",
            "(-4, 64)\n"
          ]
        }
      ]
    },
    {
      "cell_type": "markdown",
      "metadata": {
        "id": "74lLLdSwxj1H"
      },
      "source": [
        "## Computing Ranked ANOVA to understand significance in difference in ranked median"
      ]
    },
    {
      "cell_type": "code",
      "metadata": {
        "colab": {
          "base_uri": "https://localhost:8080/"
        },
        "id": "2YO7h6toxjan",
        "outputId": "f5cdf4e6-8bf7-4f1a-e959-1a911a85bd0b"
      },
      "source": [
        "#computing ranked ANOVA  for youtube views\n",
        "x = youtube_views[youtube_views['sentiment_polarity']=='negative']['percentage_increase']\n",
        "y = youtube_views[youtube_views['sentiment_polarity']=='neutral']['percentage_increase']\n",
        "z = youtube_views[youtube_views['sentiment_polarity']=='positive']['percentage_increase']\n",
        "st.kruskal(x, y, z)\n",
        "\n"
      ],
      "execution_count": 25,
      "outputs": [
        {
          "output_type": "execute_result",
          "data": {
            "text/plain": [
              "KruskalResult(statistic=6.764697890369805, pvalue=0.033967572985396634)"
            ]
          },
          "metadata": {},
          "execution_count": 25
        }
      ]
    },
    {
      "cell_type": "code",
      "metadata": {
        "colab": {
          "base_uri": "https://localhost:8080/"
        },
        "id": "l1L-bBfr0KEO",
        "outputId": "b694dd8c-cdbc-428a-f302-80dd2c5f0db3"
      },
      "source": [
        "#computing ranked ANOVA for youtube views\n",
        "x = youtube_views[youtube_views['name_sentiment_polarity']=='negative']['percentage_increase']\n",
        "y = youtube_views[youtube_views['name_sentiment_polarity']=='neutral']['percentage_increase']\n",
        "z = youtube_views[youtube_views['name_sentiment_polarity']=='positive']['percentage_increase']\n",
        "st.kruskal(x, y, z)\n"
      ],
      "execution_count": 26,
      "outputs": [
        {
          "output_type": "execute_result",
          "data": {
            "text/plain": [
              "KruskalResult(statistic=2.276301178074153, pvalue=0.32041104590057595)"
            ]
          },
          "metadata": {},
          "execution_count": 26
        }
      ]
    },
    {
      "cell_type": "code",
      "metadata": {
        "colab": {
          "base_uri": "https://localhost:8080/"
        },
        "id": "0TpVCbbk0XMu",
        "outputId": "362b0757-6797-40f0-81e7-f1e4a56d2d50"
      },
      "source": [
        "#computing ranked ANOVA for twitch views\n",
        "\n",
        "x = youtube_views[youtube_views['strongest_emotion']=='sadness']['percentage_increase']\n",
        "y = youtube_views[youtube_views['strongest_emotion']=='fear']['percentage_increase']\n",
        "z = youtube_views[youtube_views['strongest_emotion']=='surprise']['percentage_increase']\n",
        "\n",
        "a = youtube_views[youtube_views['strongest_emotion']=='trust']['percentage_increase']\n",
        "b = youtube_views[youtube_views['strongest_emotion']=='anticipation']['percentage_increase']\n",
        "c = youtube_views[youtube_views['strongest_emotion']=='joy']['percentage_increase']\n",
        "\n",
        "\n",
        "d = youtube_views[youtube_views['strongest_emotion']=='anger']['percentage_increase']\n",
        "e = youtube_views[youtube_views['strongest_emotion']=='disgust']['percentage_increase']\n",
        "\n",
        "st.kruskal(x, y, z, a, b, c, d, e)"
      ],
      "execution_count": 27,
      "outputs": [
        {
          "output_type": "execute_result",
          "data": {
            "text/plain": [
              "KruskalResult(statistic=24.4435577573094, pvalue=0.000951792657759966)"
            ]
          },
          "metadata": {},
          "execution_count": 27
        }
      ]
    }
  ]
}