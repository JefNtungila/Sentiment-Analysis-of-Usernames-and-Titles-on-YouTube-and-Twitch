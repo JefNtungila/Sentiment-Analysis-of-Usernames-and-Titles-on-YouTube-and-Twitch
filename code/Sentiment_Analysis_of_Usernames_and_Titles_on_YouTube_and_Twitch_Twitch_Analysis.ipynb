{
  "nbformat": 4,
  "nbformat_minor": 0,
  "metadata": {
    "colab": {
      "name": "Sentiment Analysis of Usernames and Titles on YouTube and Twitch_Twitch_Analysis.ipynb",
      "provenance": [],
      "collapsed_sections": [],
      "toc_visible": true
    },
    "kernelspec": {
      "name": "python3",
      "display_name": "Python 3"
    },
    "language_info": {
      "name": "python"
    }
  },
  "cells": [
    {
      "cell_type": "markdown",
      "metadata": {
        "id": "17ttd7XU0tGu"
      },
      "source": [
        "# Sentiment Analysis and Emotion Detection of Twitch Data"
      ]
    },
    {
      "cell_type": "markdown",
      "metadata": {
        "id": "sOIOQbELyoIN"
      },
      "source": [
        "## Loading data into notebook"
      ]
    },
    {
      "cell_type": "code",
      "metadata": {
        "colab": {
          "base_uri": "https://localhost:8080/"
        },
        "id": "-iiJCm95BZYc",
        "outputId": "b46ff390-fdd9-4d1b-b56e-226238138288"
      },
      "source": [
        "!wget https://github.com/JefNtungila/Sentiment-Analysis-of-Usernames-and-Titles-on-YouTube-and-Twitch/blob/main/data/twitch_data.csv.zip?raw=true"
      ],
      "execution_count": null,
      "outputs": [
        {
          "output_type": "stream",
          "text": [
            "--2021-08-10 13:49:22--  https://github.com/JefNtungila/Sentiment-Analysis-of-Usernames-and-Titles-on-YouTube-and-Twitch/blob/main/data/twitch_data.csv.zip?raw=true\n",
            "Resolving github.com (github.com)... 192.30.255.112\n",
            "Connecting to github.com (github.com)|192.30.255.112|:443... connected.\n",
            "HTTP request sent, awaiting response... 302 Found\n",
            "Location: https://github.com/JefNtungila/Sentiment-Analysis-of-Usernames-and-Titles-on-YouTube-and-Twitch/raw/main/data/twitch_data.csv.zip [following]\n",
            "--2021-08-10 13:49:22--  https://github.com/JefNtungila/Sentiment-Analysis-of-Usernames-and-Titles-on-YouTube-and-Twitch/raw/main/data/twitch_data.csv.zip\n",
            "Reusing existing connection to github.com:443.\n",
            "HTTP request sent, awaiting response... 302 Found\n",
            "Location: https://raw.githubusercontent.com/JefNtungila/Sentiment-Analysis-of-Usernames-and-Titles-on-YouTube-and-Twitch/main/data/twitch_data.csv.zip [following]\n",
            "--2021-08-10 13:49:23--  https://raw.githubusercontent.com/JefNtungila/Sentiment-Analysis-of-Usernames-and-Titles-on-YouTube-and-Twitch/main/data/twitch_data.csv.zip\n",
            "Resolving raw.githubusercontent.com (raw.githubusercontent.com)... 185.199.108.133, 185.199.109.133, 185.199.110.133, ...\n",
            "Connecting to raw.githubusercontent.com (raw.githubusercontent.com)|185.199.108.133|:443... connected.\n",
            "HTTP request sent, awaiting response... 200 OK\n",
            "Length: 13145599 (13M) [application/zip]\n",
            "Saving to: ‘twitch_data.csv.zip?raw=true.1’\n",
            "\n",
            "twitch_data.csv.zip 100%[===================>]  12.54M  --.-KB/s    in 0.09s   \n",
            "\n",
            "2021-08-10 13:49:24 (141 MB/s) - ‘twitch_data.csv.zip?raw=true.1’ saved [13145599/13145599]\n",
            "\n"
          ],
          "name": "stdout"
        }
      ]
    },
    {
      "cell_type": "code",
      "metadata": {
        "colab": {
          "base_uri": "https://localhost:8080/"
        },
        "id": "8-pJWvYNBjy4",
        "outputId": "f8e2c8e5-aa72-419b-93ab-ca284e80be56"
      },
      "source": [
        "!unzip twitch_data.csv.zip?raw=true"
      ],
      "execution_count": null,
      "outputs": [
        {
          "output_type": "stream",
          "text": [
            "Archive:  twitch_data.csv.zip?raw=true\n",
            "  inflating: twitch_data.csv         \n",
            "  inflating: __MACOSX/._twitch_data.csv  \n"
          ],
          "name": "stdout"
        }
      ]
    },
    {
      "cell_type": "code",
      "metadata": {
        "id": "paj_bgck8WV8"
      },
      "source": [
        "import pandas as pd\n",
        "pd.options.display.max_colwidth = 500\n",
        "\n",
        "#reading data in\n",
        "\n",
        "twitch_data = pd.read_csv('twitch_data.csv')"
      ],
      "execution_count": null,
      "outputs": []
    },
    {
      "cell_type": "code",
      "metadata": {
        "colab": {
          "base_uri": "https://localhost:8080/",
          "height": 483
        },
        "id": "4VY-tk0mswir",
        "outputId": "d01dbe25-5d47-4fe0-b71d-84a1a659cfb8"
      },
      "source": [
        "twitch_data.describe(include = 'all').T"
      ],
      "execution_count": null,
      "outputs": [
        {
          "output_type": "execute_result",
          "data": {
            "text/html": [
              "<div>\n",
              "<style scoped>\n",
              "    .dataframe tbody tr th:only-of-type {\n",
              "        vertical-align: middle;\n",
              "    }\n",
              "\n",
              "    .dataframe tbody tr th {\n",
              "        vertical-align: top;\n",
              "    }\n",
              "\n",
              "    .dataframe thead th {\n",
              "        text-align: right;\n",
              "    }\n",
              "</style>\n",
              "<table border=\"1\" class=\"dataframe\">\n",
              "  <thead>\n",
              "    <tr style=\"text-align: right;\">\n",
              "      <th></th>\n",
              "      <th>count</th>\n",
              "      <th>unique</th>\n",
              "      <th>top</th>\n",
              "      <th>freq</th>\n",
              "      <th>mean</th>\n",
              "      <th>std</th>\n",
              "      <th>min</th>\n",
              "      <th>25%</th>\n",
              "      <th>50%</th>\n",
              "      <th>75%</th>\n",
              "      <th>max</th>\n",
              "    </tr>\n",
              "  </thead>\n",
              "  <tbody>\n",
              "    <tr>\n",
              "      <th>Unnamed: 0</th>\n",
              "      <td>139500</td>\n",
              "      <td>NaN</td>\n",
              "      <td>NaN</td>\n",
              "      <td>NaN</td>\n",
              "      <td>69749.5</td>\n",
              "      <td>40270.3</td>\n",
              "      <td>0</td>\n",
              "      <td>34874.8</td>\n",
              "      <td>69749.5</td>\n",
              "      <td>104624</td>\n",
              "      <td>139499</td>\n",
              "    </tr>\n",
              "    <tr>\n",
              "      <th>reference_index</th>\n",
              "      <td>139500</td>\n",
              "      <td>NaN</td>\n",
              "      <td>NaN</td>\n",
              "      <td>NaN</td>\n",
              "      <td>49.5</td>\n",
              "      <td>28.8662</td>\n",
              "      <td>0</td>\n",
              "      <td>24.75</td>\n",
              "      <td>49.5</td>\n",
              "      <td>74.25</td>\n",
              "      <td>99</td>\n",
              "    </tr>\n",
              "    <tr>\n",
              "      <th>user_name</th>\n",
              "      <td>139500</td>\n",
              "      <td>4062</td>\n",
              "      <td>ops1x</td>\n",
              "      <td>937</td>\n",
              "      <td>NaN</td>\n",
              "      <td>NaN</td>\n",
              "      <td>NaN</td>\n",
              "      <td>NaN</td>\n",
              "      <td>NaN</td>\n",
              "      <td>NaN</td>\n",
              "      <td>NaN</td>\n",
              "    </tr>\n",
              "    <tr>\n",
              "      <th>game_name</th>\n",
              "      <td>138386</td>\n",
              "      <td>1378</td>\n",
              "      <td>Grand Theft Auto V</td>\n",
              "      <td>12780</td>\n",
              "      <td>NaN</td>\n",
              "      <td>NaN</td>\n",
              "      <td>NaN</td>\n",
              "      <td>NaN</td>\n",
              "      <td>NaN</td>\n",
              "      <td>NaN</td>\n",
              "      <td>NaN</td>\n",
              "    </tr>\n",
              "    <tr>\n",
              "      <th>title</th>\n",
              "      <td>139043</td>\n",
              "      <td>43567</td>\n",
              "      <td>Ramee | !Twitter | Chang Gang | NoPixel</td>\n",
              "      <td>299</td>\n",
              "      <td>NaN</td>\n",
              "      <td>NaN</td>\n",
              "      <td>NaN</td>\n",
              "      <td>NaN</td>\n",
              "      <td>NaN</td>\n",
              "      <td>NaN</td>\n",
              "      <td>NaN</td>\n",
              "    </tr>\n",
              "    <tr>\n",
              "      <th>viewer_count</th>\n",
              "      <td>139500</td>\n",
              "      <td>NaN</td>\n",
              "      <td>NaN</td>\n",
              "      <td>NaN</td>\n",
              "      <td>7108.38</td>\n",
              "      <td>12417.7</td>\n",
              "      <td>0</td>\n",
              "      <td>2254</td>\n",
              "      <td>3430</td>\n",
              "      <td>6788</td>\n",
              "      <td>400648</td>\n",
              "    </tr>\n",
              "    <tr>\n",
              "      <th>started_at</th>\n",
              "      <td>139500</td>\n",
              "      <td>34500</td>\n",
              "      <td>2021-06-17 08:00:29</td>\n",
              "      <td>54</td>\n",
              "      <td>NaN</td>\n",
              "      <td>NaN</td>\n",
              "      <td>NaN</td>\n",
              "      <td>NaN</td>\n",
              "      <td>NaN</td>\n",
              "      <td>NaN</td>\n",
              "      <td>NaN</td>\n",
              "    </tr>\n",
              "    <tr>\n",
              "      <th>api_call_time</th>\n",
              "      <td>139500</td>\n",
              "      <td>1395</td>\n",
              "      <td>2021-06-07T07:06:03.073801</td>\n",
              "      <td>100</td>\n",
              "      <td>NaN</td>\n",
              "      <td>NaN</td>\n",
              "      <td>NaN</td>\n",
              "      <td>NaN</td>\n",
              "      <td>NaN</td>\n",
              "      <td>NaN</td>\n",
              "      <td>NaN</td>\n",
              "    </tr>\n",
              "    <tr>\n",
              "      <th>date_api_call_time</th>\n",
              "      <td>139500</td>\n",
              "      <td>62</td>\n",
              "      <td>2021-06-18</td>\n",
              "      <td>2800</td>\n",
              "      <td>NaN</td>\n",
              "      <td>NaN</td>\n",
              "      <td>NaN</td>\n",
              "      <td>NaN</td>\n",
              "      <td>NaN</td>\n",
              "      <td>NaN</td>\n",
              "      <td>NaN</td>\n",
              "    </tr>\n",
              "    <tr>\n",
              "      <th>hour_api_call_time</th>\n",
              "      <td>139500</td>\n",
              "      <td>NaN</td>\n",
              "      <td>NaN</td>\n",
              "      <td>NaN</td>\n",
              "      <td>11.8222</td>\n",
              "      <td>6.80187</td>\n",
              "      <td>0</td>\n",
              "      <td>6</td>\n",
              "      <td>12</td>\n",
              "      <td>18</td>\n",
              "      <td>23</td>\n",
              "    </tr>\n",
              "    <tr>\n",
              "      <th>tokenised_title</th>\n",
              "      <td>139500</td>\n",
              "      <td>39665</td>\n",
              "      <td>[]</td>\n",
              "      <td>520</td>\n",
              "      <td>NaN</td>\n",
              "      <td>NaN</td>\n",
              "      <td>NaN</td>\n",
              "      <td>NaN</td>\n",
              "      <td>NaN</td>\n",
              "      <td>NaN</td>\n",
              "      <td>NaN</td>\n",
              "    </tr>\n",
              "    <tr>\n",
              "      <th>tokenised_titles_with_stopwords</th>\n",
              "      <td>139500</td>\n",
              "      <td>40088</td>\n",
              "      <td>['nan']</td>\n",
              "      <td>457</td>\n",
              "      <td>NaN</td>\n",
              "      <td>NaN</td>\n",
              "      <td>NaN</td>\n",
              "      <td>NaN</td>\n",
              "      <td>NaN</td>\n",
              "      <td>NaN</td>\n",
              "      <td>NaN</td>\n",
              "    </tr>\n",
              "    <tr>\n",
              "      <th>genre</th>\n",
              "      <td>139500</td>\n",
              "      <td>18</td>\n",
              "      <td>Other</td>\n",
              "      <td>37612</td>\n",
              "      <td>NaN</td>\n",
              "      <td>NaN</td>\n",
              "      <td>NaN</td>\n",
              "      <td>NaN</td>\n",
              "      <td>NaN</td>\n",
              "      <td>NaN</td>\n",
              "      <td>NaN</td>\n",
              "    </tr>\n",
              "    <tr>\n",
              "      <th>words_in_names</th>\n",
              "      <td>135718</td>\n",
              "      <td>3672</td>\n",
              "      <td>['es']</td>\n",
              "      <td>994</td>\n",
              "      <td>NaN</td>\n",
              "      <td>NaN</td>\n",
              "      <td>NaN</td>\n",
              "      <td>NaN</td>\n",
              "      <td>NaN</td>\n",
              "      <td>NaN</td>\n",
              "      <td>NaN</td>\n",
              "    </tr>\n",
              "  </tbody>\n",
              "</table>\n",
              "</div>"
            ],
            "text/plain": [
              "                                  count unique  ...     75%     max\n",
              "Unnamed: 0                       139500    NaN  ...  104624  139499\n",
              "reference_index                  139500    NaN  ...   74.25      99\n",
              "user_name                        139500   4062  ...     NaN     NaN\n",
              "game_name                        138386   1378  ...     NaN     NaN\n",
              "title                            139043  43567  ...     NaN     NaN\n",
              "viewer_count                     139500    NaN  ...    6788  400648\n",
              "started_at                       139500  34500  ...     NaN     NaN\n",
              "api_call_time                    139500   1395  ...     NaN     NaN\n",
              "date_api_call_time               139500     62  ...     NaN     NaN\n",
              "hour_api_call_time               139500    NaN  ...      18      23\n",
              "tokenised_title                  139500  39665  ...     NaN     NaN\n",
              "tokenised_titles_with_stopwords  139500  40088  ...     NaN     NaN\n",
              "genre                            139500     18  ...     NaN     NaN\n",
              "words_in_names                   135718   3672  ...     NaN     NaN\n",
              "\n",
              "[14 rows x 11 columns]"
            ]
          },
          "metadata": {
            "tags": []
          },
          "execution_count": 54
        }
      ]
    },
    {
      "cell_type": "code",
      "metadata": {
        "colab": {
          "base_uri": "https://localhost:8080/"
        },
        "id": "awJCyne5W-4L",
        "outputId": "435ff043-5d0e-438d-880e-cec7b9958fd9"
      },
      "source": [
        "twitch_data.columns.values"
      ],
      "execution_count": null,
      "outputs": [
        {
          "output_type": "execute_result",
          "data": {
            "text/plain": [
              "array(['Unnamed: 0', 'reference_index', 'user_name', 'game_name', 'title',\n",
              "       'viewer_count', 'started_at', 'api_call_time',\n",
              "       'date_api_call_time', 'hour_api_call_time', 'tokenised_title',\n",
              "       'tokenised_titles_with_stopwords', 'genre', 'words_in_names'],\n",
              "      dtype=object)"
            ]
          },
          "metadata": {
            "tags": []
          },
          "execution_count": 55
        }
      ]
    },
    {
      "cell_type": "markdown",
      "metadata": {
        "id": "hsHy-BHkywRT"
      },
      "source": [
        "## Wrangling Data into required format for analysis"
      ]
    },
    {
      "cell_type": "code",
      "metadata": {
        "id": "yoqOaNMsRzIa"
      },
      "source": [
        "#keep title with min amount of views i.e first time video appear on the twitch trending tab\n",
        "\n",
        "twitch_min_views = twitch_data.drop_duplicates(subset=['started_at','user_name','title'], \n",
        "                                                 keep='first')[['started_at', 'date_api_call_time', 'hour_api_call_time', 'user_name','title',\n",
        "                                                                'tokenised_title', 'genre', 'words_in_names', 'viewer_count']]\n",
        "\n",
        "#keep title with max amount of views, sorting by maximum viewer count and keeping first\n",
        "twitch_max_views = twitch_data.sort_values(by='viewer_count', ascending = False).drop_duplicates(subset=['started_at','user_name','title'], \n",
        "                                                 keep='first')[['started_at','user_name','title','viewer_count', 'date_api_call_time', 'hour_api_call_time']]\n",
        "\n",
        "#merging both min and max views dataframe and then renaming columns\n",
        "twitch_views = pd.merge(twitch_min_views, twitch_max_views, how = 'left', on = ['started_at','user_name','title'])\n",
        "twitch_views = twitch_views.rename(columns = {'viewer_count_x': 'min_views',\n",
        "                                'viewer_count_y': 'max_views',\n",
        "                                'date_api_call_time_x' : 'entry_date',\n",
        "                                'hour_api_call_time_x' : 'entry_hour',\n",
        "                                'date_api_call_time_y':'exit_date',\n",
        "                                'hour_api_call_time_y' : 'exit_hour'})   \n",
        "\n",
        "#calculating the percentage increase                                                        \n",
        "view_increase = twitch_views['max_views'] - twitch_views['min_views']\n",
        "percentage_view_increase = view_increase/twitch_views['min_views'] \n",
        "\n",
        "twitch_views['percentage_view_increase'] = percentage_view_increase \n",
        "\n",
        "#VALIDITY , views that were ingested through reversal of the api\n",
        "# observations that decreased or had no increase at all in viewership\n",
        "twitch_views = twitch_views[twitch_views['min_views'] > 0]\n",
        "twitch_views = twitch_views[twitch_views['max_views'] > 0]\n",
        "twitch_views = twitch_views[twitch_views['percentage_view_increase'] > 0]"
      ],
      "execution_count": null,
      "outputs": []
    },
    {
      "cell_type": "markdown",
      "metadata": {
        "id": "6yaebLmWy4x3"
      },
      "source": [
        "## Performing Sentiment Anaysis on Twitch Data using Vader and Emote-controlled\n",
        "\n",
        "\n",
        "\n",
        "Vader reference:\n",
        "\n",
        "Hutto, C. and Gilbert, E., 2014, May. Vader: A parsimonious rule-based model for sentiment analysis of social media text. In Proceedings of the International AAAI Conference on Web and Social Media (Vol. 8, No. 1).\n",
        "\n",
        "Emote-controlled reference:\n",
        "\n",
        "Kobs, K., Zehe, A., Bernstetter, A., Chibane, J., Pfister, J., Tritscher, J. and Hotho, A., 2020. Emote-Controlled: Obtaining Implicit Viewer Feedback Through Emote-Based Sentiment Analysis on Comments of Popular Twitch. tv Channels. ACM Transactions on Social Computing, 3(2), pp.1-34.\n",
        "\n"
      ]
    },
    {
      "cell_type": "code",
      "metadata": {
        "colab": {
          "base_uri": "https://localhost:8080/"
        },
        "id": "wONpE5i_-jLp",
        "outputId": "af1c9983-dcc1-4bc1-e195-f00f39f6e274"
      },
      "source": [
        "from nltk.sentiment.vader import SentimentIntensityAnalyzer\n",
        "import nltk\n",
        "#downloading vader lexincon but what is vader lexicon???????\n",
        "nltk.download('vader_lexicon')\n"
      ],
      "execution_count": null,
      "outputs": [
        {
          "output_type": "stream",
          "text": [
            "[nltk_data] Downloading package vader_lexicon to /root/nltk_data...\n"
          ],
          "name": "stdout"
        },
        {
          "output_type": "stream",
          "text": [
            "/usr/local/lib/python3.7/dist-packages/nltk/twitter/__init__.py:20: UserWarning: The twython library has not been installed. Some functionality from the twitter package will not be available.\n",
            "  warnings.warn(\"The twython library has not been installed. \"\n"
          ],
          "name": "stderr"
        },
        {
          "output_type": "execute_result",
          "data": {
            "text/plain": [
              "True"
            ]
          },
          "metadata": {
            "tags": []
          },
          "execution_count": 57
        }
      ]
    },
    {
      "cell_type": "code",
      "metadata": {
        "colab": {
          "base_uri": "https://localhost:8080/"
        },
        "id": "FS_KZ327zt5b",
        "outputId": "5e28a8b9-5e35-46b5-ed42-1bd9e7fcc2db"
      },
      "source": [
        "#reading tsv in as dataframe\n",
        "emote_controlled = pd.read_csv('https://raw.githubusercontent.com/JefNtungila/Sentiment-Analysis-of-Usernames-and-Titles-on-YouTube-and-Twitch/main/data/emote_average', sep='\\t')\n",
        "\n",
        "#preprocessing emotes as lowercase given that the tokenised titles are all lower case\n",
        "emote_controlled['word'] = emote_controlled['word'].str.lower()\n",
        "\n",
        "#converting tsv to dictionary for ease of look up of words\n",
        "emote_controlled  = emote_controlled.set_index('word').T.to_dict('list')"
      ],
      "execution_count": null,
      "outputs": [
        {
          "output_type": "stream",
          "text": [
            "/usr/local/lib/python3.7/dist-packages/ipykernel_launcher.py:8: UserWarning: DataFrame columns are not unique, some columns will be omitted.\n",
            "  \n"
          ],
          "name": "stderr"
        }
      ]
    },
    {
      "cell_type": "code",
      "metadata": {
        "colab": {
          "base_uri": "https://localhost:8080/"
        },
        "id": "ivzgHr8H2OK5",
        "outputId": "03f64970-d6a0-4db0-8aa6-a82428e47a89"
      },
      "source": [
        "\n",
        "def emote_analyser(doc):\n",
        "  \n",
        "  ''' takes in a sentence document\n",
        "  returns emote senrtiment as defined by Kobs et al'''\n",
        "\n",
        "  #preprocessing string to extract list\n",
        "  doc = eval(doc)\n",
        "\n",
        "  emote_final_sentiment = []  \n",
        "\n",
        "  for word in doc:\n",
        "    try:\n",
        "      #try finding emote in dictionary\n",
        "      #if emote is found appent polarity\n",
        "      emote_sentiment = emote_controlled[word][0]\n",
        "      emote_final_sentiment.append(emote_sentiment)\n",
        "    except:\n",
        "      continue\n",
        "   #return maximum sentiment for emote \n",
        "  if sum(emote_final_sentiment) != 0:\n",
        "     return max(emote_final_sentiment, key = abs)\n",
        "  else:\n",
        "    return 0\n",
        "\n",
        "\n",
        "emotes =  twitch_views['tokenised_title'].apply(lambda x: emote_analyser(x))\n",
        "\n",
        "print(len(emotes)) #how many titles were analysed\n",
        "print(sum(emotes)) #if zero than error with function\n",
        "print(len([i for i in emotes if i != 0])) #how many titles had emotes\n",
        "print(len([i for i in emotes if i != 0])/len(emotes)) #percentage titles that had emotes\n",
        "\n",
        "\n"
      ],
      "execution_count": null,
      "outputs": [
        {
          "output_type": "stream",
          "text": [
            "23578\n",
            "101.06999999999987\n",
            "269\n",
            "0.011408940537789465\n"
          ],
          "name": "stdout"
        }
      ]
    },
    {
      "cell_type": "code",
      "metadata": {
        "id": "Etonjqiz-DyZ"
      },
      "source": [
        "def sentiment_analyser(doc):\n",
        "#making long string from each token\n",
        "  # doc = ' '.join(word for word in doc) \n",
        "  sid = SentimentIntensityAnalyzer()\n",
        "  output = sid.polarity_scores(doc)\n",
        "  sentiment = output['compound']\n",
        "  return sentiment\n",
        "\n",
        "\n",
        "vader_sentiment = twitch_views['title'].apply(lambda x: sentiment_analyser(str(x)))"
      ],
      "execution_count": null,
      "outputs": []
    },
    {
      "cell_type": "code",
      "metadata": {
        "id": "3XpY53KWJ4aQ"
      },
      "source": [
        "combined_sentiment = []\n",
        "\n",
        "#combining both vader and emote controlled\n",
        "#giving precedence to emote controlled as prescribed by Kobs et al\n",
        "\n",
        "for emote,sentiment in zip(emotes, vader_sentiment):\n",
        "  if emote != 0:\n",
        "    combined_sentiment.append(emote)\n",
        "  else:\n",
        "    combined_sentiment.append(sentiment)\n",
        "\n",
        "twitch_views['sentiment'] = combined_sentiment"
      ],
      "execution_count": null,
      "outputs": []
    },
    {
      "cell_type": "markdown",
      "metadata": {
        "id": "5EalmcpS5sAt"
      },
      "source": [
        "## Nominal Realism Extraction from Social Media Usernames using Afinn\n",
        "\n",
        "Afinn reference:\n",
        "\n",
        "Nielsen, F.Å., 2011. A new ANEW: Evaluation of a word list for sentiment analysis in microblogs. arXiv preprint arXiv:1103.2903."
      ]
    },
    {
      "cell_type": "code",
      "metadata": {
        "colab": {
          "base_uri": "https://localhost:8080/"
        },
        "id": "tU7_mHu67tzs",
        "outputId": "1a1ca72d-8d7a-402a-cb4c-77ffdee81386"
      },
      "source": [
        "!pip install afinn"
      ],
      "execution_count": null,
      "outputs": [
        {
          "output_type": "stream",
          "text": [
            "Collecting afinn\n",
            "  Downloading afinn-0.1.tar.gz (52 kB)\n",
            "\u001b[?25l\r\u001b[K     |██████▎                         | 10 kB 26.1 MB/s eta 0:00:01\r\u001b[K     |████████████▌                   | 20 kB 29.6 MB/s eta 0:00:01\r\u001b[K     |██████████████████▊             | 30 kB 34.7 MB/s eta 0:00:01\r\u001b[K     |█████████████████████████       | 40 kB 26.6 MB/s eta 0:00:01\r\u001b[K     |███████████████████████████████▏| 51 kB 9.9 MB/s eta 0:00:01\r\u001b[K     |████████████████████████████████| 52 kB 1.0 MB/s \n",
            "\u001b[?25hBuilding wheels for collected packages: afinn\n",
            "  Building wheel for afinn (setup.py) ... \u001b[?25l\u001b[?25hdone\n",
            "  Created wheel for afinn: filename=afinn-0.1-py3-none-any.whl size=53447 sha256=5e115df95b9bc92d14b788727953311952fc966d9abf9d3e55aa09b6b50fbb04\n",
            "  Stored in directory: /root/.cache/pip/wheels/9d/16/3a/9f0953027434eab5dadf3f33ab3298fa95afa8292fcf7aba75\n",
            "Successfully built afinn\n",
            "Installing collected packages: afinn\n",
            "Successfully installed afinn-0.1\n"
          ],
          "name": "stdout"
        }
      ]
    },
    {
      "cell_type": "code",
      "metadata": {
        "id": "bYojJI72lvLN"
      },
      "source": [
        "from afinn import Afinn\n",
        "\n",
        "def name_sentiment_analyser(name):\n",
        "#making long string from each token\n",
        "  try:\n",
        "    #finding words in string of list of words\n",
        "    #bypassing string datatype and reading it as list with 'eval'\n",
        "    doc = eval(name)\n",
        "    #initiating affinity lexicon\n",
        "    afinn = Afinn(emoticons=True)\n",
        "    #finding word with largest absolute polarity in name\n",
        "    score = max([afinn.score(word) for word in doc], key=abs)\n",
        "    return score\n",
        "    #error handeling of NaN values\n",
        "  except:\n",
        "    pass"
      ],
      "execution_count": null,
      "outputs": []
    },
    {
      "cell_type": "code",
      "metadata": {
        "id": "jACXlyXN-O8b"
      },
      "source": [
        "#computing sentiment analysis using affin on usernames\n",
        " \n",
        "\n",
        "twitch_views['name_sentiment'] = twitch_views['words_in_names'].apply(lambda x: name_sentiment_analyser(x))\n"
      ],
      "execution_count": null,
      "outputs": []
    },
    {
      "cell_type": "markdown",
      "metadata": {
        "id": "cInmvkxXrCZd"
      },
      "source": [
        "## Labelling polarity of usernames and titles"
      ]
    },
    {
      "cell_type": "code",
      "metadata": {
        "id": "ku_ZGhnKWUr-"
      },
      "source": [
        "twitch_views['sentiment'] = twitch_views['sentiment'].fillna(0)\n",
        "twitch_views['name_sentiment'] = twitch_views['name_sentiment'].fillna(0)"
      ],
      "execution_count": null,
      "outputs": []
    },
    {
      "cell_type": "code",
      "metadata": {
        "id": "oKMWWDfmWdA_"
      },
      "source": [
        "def polarity_detector(score):\n",
        "  if score < 0:\n",
        "    return 'negative'\n",
        "  elif score > 0:\n",
        "    return 'positive'\n",
        "  else:\n",
        "    return 'neutral'"
      ],
      "execution_count": null,
      "outputs": []
    },
    {
      "cell_type": "code",
      "metadata": {
        "id": "i7t6uO_UWgpf"
      },
      "source": [
        "#labelling username and name polarity\n",
        "\n",
        "twitch_views['sentiment_polarity'] = twitch_views['sentiment'].apply(lambda x: polarity_detector(x))\n",
        "twitch_views['name_sentiment_polarity'] = twitch_views['name_sentiment'].apply(lambda x: polarity_detector(x))"
      ],
      "execution_count": null,
      "outputs": []
    },
    {
      "cell_type": "markdown",
      "metadata": {
        "id": "Q3I0V4Gc6KrO"
      },
      "source": [
        "## Emotion Detection in titles using NRCLex\n",
        "\n",
        "Mohammad, S.M. and Turney, P.D., 2013. Nrc emotion lexicon. National Research Council, Canada, 2."
      ]
    },
    {
      "cell_type": "code",
      "metadata": {
        "colab": {
          "base_uri": "https://localhost:8080/"
        },
        "id": "uS1nkvL6hofh",
        "outputId": "f776b1a5-3c32-46ba-b0be-6274dfc232fb"
      },
      "source": [
        "!pip install NRCLex"
      ],
      "execution_count": null,
      "outputs": [
        {
          "output_type": "stream",
          "text": [
            "Collecting NRCLex\n",
            "  Downloading NRCLex-3.0.0.tar.gz (396 kB)\n",
            "\u001b[?25l\r\u001b[K     |▉                               | 10 kB 21.5 MB/s eta 0:00:01\r\u001b[K     |█▋                              | 20 kB 23.5 MB/s eta 0:00:01\r\u001b[K     |██▌                             | 30 kB 28.3 MB/s eta 0:00:01\r\u001b[K     |███▎                            | 40 kB 16.5 MB/s eta 0:00:01\r\u001b[K     |████▏                           | 51 kB 9.5 MB/s eta 0:00:01\r\u001b[K     |█████                           | 61 kB 8.4 MB/s eta 0:00:01\r\u001b[K     |█████▉                          | 71 kB 7.9 MB/s eta 0:00:01\r\u001b[K     |██████▋                         | 81 kB 8.8 MB/s eta 0:00:01\r\u001b[K     |███████▍                        | 92 kB 9.4 MB/s eta 0:00:01\r\u001b[K     |████████▎                       | 102 kB 8.3 MB/s eta 0:00:01\r\u001b[K     |█████████                       | 112 kB 8.3 MB/s eta 0:00:01\r\u001b[K     |██████████                      | 122 kB 8.3 MB/s eta 0:00:01\r\u001b[K     |██████████▊                     | 133 kB 8.3 MB/s eta 0:00:01\r\u001b[K     |███████████▋                    | 143 kB 8.3 MB/s eta 0:00:01\r\u001b[K     |████████████▍                   | 153 kB 8.3 MB/s eta 0:00:01\r\u001b[K     |█████████████▎                  | 163 kB 8.3 MB/s eta 0:00:01\r\u001b[K     |██████████████                  | 174 kB 8.3 MB/s eta 0:00:01\r\u001b[K     |██████████████▉                 | 184 kB 8.3 MB/s eta 0:00:01\r\u001b[K     |███████████████▊                | 194 kB 8.3 MB/s eta 0:00:01\r\u001b[K     |████████████████▌               | 204 kB 8.3 MB/s eta 0:00:01\r\u001b[K     |█████████████████▍              | 215 kB 8.3 MB/s eta 0:00:01\r\u001b[K     |██████████████████▏             | 225 kB 8.3 MB/s eta 0:00:01\r\u001b[K     |███████████████████             | 235 kB 8.3 MB/s eta 0:00:01\r\u001b[K     |███████████████████▉            | 245 kB 8.3 MB/s eta 0:00:01\r\u001b[K     |████████████████████▊           | 256 kB 8.3 MB/s eta 0:00:01\r\u001b[K     |█████████████████████▌          | 266 kB 8.3 MB/s eta 0:00:01\r\u001b[K     |██████████████████████▎         | 276 kB 8.3 MB/s eta 0:00:01\r\u001b[K     |███████████████████████▏        | 286 kB 8.3 MB/s eta 0:00:01\r\u001b[K     |████████████████████████        | 296 kB 8.3 MB/s eta 0:00:01\r\u001b[K     |████████████████████████▉       | 307 kB 8.3 MB/s eta 0:00:01\r\u001b[K     |█████████████████████████▋      | 317 kB 8.3 MB/s eta 0:00:01\r\u001b[K     |██████████████████████████▌     | 327 kB 8.3 MB/s eta 0:00:01\r\u001b[K     |███████████████████████████▎    | 337 kB 8.3 MB/s eta 0:00:01\r\u001b[K     |████████████████████████████    | 348 kB 8.3 MB/s eta 0:00:01\r\u001b[K     |█████████████████████████████   | 358 kB 8.3 MB/s eta 0:00:01\r\u001b[K     |█████████████████████████████▊  | 368 kB 8.3 MB/s eta 0:00:01\r\u001b[K     |██████████████████████████████▋ | 378 kB 8.3 MB/s eta 0:00:01\r\u001b[K     |███████████████████████████████▍| 389 kB 8.3 MB/s eta 0:00:01\r\u001b[K     |████████████████████████████████| 396 kB 8.3 MB/s \n",
            "\u001b[?25hRequirement already satisfied: textblob in /usr/local/lib/python3.7/dist-packages (from NRCLex) (0.15.3)\n",
            "Requirement already satisfied: nltk>=3.1 in /usr/local/lib/python3.7/dist-packages (from textblob->NRCLex) (3.2.5)\n",
            "Requirement already satisfied: six in /usr/local/lib/python3.7/dist-packages (from nltk>=3.1->textblob->NRCLex) (1.15.0)\n",
            "Building wheels for collected packages: NRCLex\n",
            "  Building wheel for NRCLex (setup.py) ... \u001b[?25l\u001b[?25hdone\n",
            "  Created wheel for NRCLex: filename=NRCLex-3.0.0-py3-none-any.whl size=43328 sha256=296ecb497d5d44d783476a7ad32a6660a9e8c2cf0b57cd88fc9339bcfd7033f6\n",
            "  Stored in directory: /root/.cache/pip/wheels/af/2c/9c/dfa19d1b65326c520b32850a9311f6d4eda679ac04dba26081\n",
            "Successfully built NRCLex\n",
            "Installing collected packages: NRCLex\n",
            "Successfully installed NRCLex-3.0.0\n"
          ],
          "name": "stdout"
        }
      ]
    },
    {
      "cell_type": "code",
      "metadata": {
        "colab": {
          "base_uri": "https://localhost:8080/"
        },
        "id": "jE85b8tnhrax",
        "outputId": "56f08a9e-cba0-438b-da48-9ac030f22d72"
      },
      "source": [
        "!python -m textblob.download_corpora"
      ],
      "execution_count": null,
      "outputs": [
        {
          "output_type": "stream",
          "text": [
            "[nltk_data] Downloading package brown to /root/nltk_data...\n",
            "[nltk_data]   Unzipping corpora/brown.zip.\n",
            "[nltk_data] Downloading package punkt to /root/nltk_data...\n",
            "[nltk_data]   Unzipping tokenizers/punkt.zip.\n",
            "[nltk_data] Downloading package wordnet to /root/nltk_data...\n",
            "[nltk_data]   Unzipping corpora/wordnet.zip.\n",
            "[nltk_data] Downloading package averaged_perceptron_tagger to\n",
            "[nltk_data]     /root/nltk_data...\n",
            "[nltk_data]   Unzipping taggers/averaged_perceptron_tagger.zip.\n",
            "[nltk_data] Downloading package conll2000 to /root/nltk_data...\n",
            "[nltk_data]   Unzipping corpora/conll2000.zip.\n",
            "[nltk_data] Downloading package movie_reviews to /root/nltk_data...\n",
            "[nltk_data]   Unzipping corpora/movie_reviews.zip.\n",
            "Finished.\n"
          ],
          "name": "stdout"
        }
      ]
    },
    {
      "cell_type": "code",
      "metadata": {
        "id": "KTYFGZCPMrrV"
      },
      "source": [
        "from nrclex import NRCLex\n",
        "\n",
        "def emotion_detector(doc):\n",
        "  ''' detects emotion in each word of a title using NRCLex'''\n",
        "\n",
        "  try:\n",
        "    #detecting emotion for each word\n",
        "    doc = eval(doc)\n",
        "    all_emotions  = [NRCLex(i).affect_frequencies for i in doc]\n",
        "    #formatting all the different emorion dictionarus as dataframes\n",
        "    all_emotions = [pd.DataFrame(df, index=[i]) for i, df in enumerate(all_emotions)]\n",
        "    #getting max emotion from words\n",
        "    all_emotions = dict(pd.concat(all_emotions).max())\n",
        "    return all_emotions \n",
        "  except:\n",
        "    pass\n"
      ],
      "execution_count": null,
      "outputs": []
    },
    {
      "cell_type": "code",
      "metadata": {
        "id": "4JxOUisEYTbW"
      },
      "source": [
        "#computing emotion detection using NRCLex on titles\n",
        " \n",
        "\n",
        "twitch_views['emotion'] = twitch_views['tokenised_title'].apply(lambda x: emotion_detector(x))"
      ],
      "execution_count": null,
      "outputs": []
    },
    {
      "cell_type": "markdown",
      "metadata": {
        "id": "vF4P8REnNKkH"
      },
      "source": [
        "## Creating Plutchik Wheel of detected Emotions\n",
        "\n",
        "Semeraro, A., Vilella, S. and Ruffo, G., 2021. PyPlutchik: visualising and comparing emotion-annotated corpora. arXiv preprint arXiv:2105.04295."
      ]
    },
    {
      "cell_type": "code",
      "metadata": {
        "id": "F0ZhmphnqmEO"
      },
      "source": [
        "df = twitch_views[twitch_views['genre'] == 'MMO']"
      ],
      "execution_count": null,
      "outputs": []
    },
    {
      "cell_type": "code",
      "metadata": {
        "id": "dOK7hHxBh4oy"
      },
      "source": [
        "emotion_list = []\n",
        "\n",
        "#preprocessing emotion list to handle potential errors\n",
        "for i in df['emotion'].tolist():\n",
        "  try:\n",
        "    i = eval(i)\n",
        "    emotion_list.append(i)\n",
        "  except:\n",
        "    continue\n",
        "\n",
        "#formatting all the emotion dictionaries as dataframes\n",
        "df_emotions_holder = [pd.DataFrame(df, index=[i]) for i, df in enumerate(emotion_list)]\n",
        "#cocatenating all the mini dataframes\n",
        "emotions = pd.concat(df_emotions_holder)\n"
      ],
      "execution_count": null,
      "outputs": []
    },
    {
      "cell_type": "code",
      "metadata": {
        "id": "baNmZQAAbkAA"
      },
      "source": [
        "import numpy as np\n",
        "#filling na values in anticipation column with 0\n",
        "emotions_plutchik = emotions.fillna(0)\n",
        "emotions_plutchik = emotions.replace({0:np.nan, 0:np.nan})\n",
        "#dropping columns of emotions not analysied\n",
        "emotions_plutchik = emotions_plutchik.drop(columns=['anticip', 'positive', 'negative'])\n"
      ],
      "execution_count": null,
      "outputs": []
    },
    {
      "cell_type": "code",
      "metadata": {
        "colab": {
          "base_uri": "https://localhost:8080/"
        },
        "id": "1GcpP9YahuzJ",
        "outputId": "d649ceab-de3c-4da4-e408-2ff114aba760"
      },
      "source": [
        "!pip install pyplutchik"
      ],
      "execution_count": null,
      "outputs": [
        {
          "output_type": "stream",
          "text": [
            "Collecting pyplutchik\n",
            "  Downloading pyplutchik-0.0.7-py2.py3-none-any.whl (9.9 kB)\n",
            "Requirement already satisfied: shapely in /usr/local/lib/python3.7/dist-packages (from pyplutchik) (1.7.1)\n",
            "Requirement already satisfied: pandas in /usr/local/lib/python3.7/dist-packages (from pyplutchik) (1.1.5)\n",
            "Requirement already satisfied: descartes in /usr/local/lib/python3.7/dist-packages (from pyplutchik) (1.1.0)\n",
            "Requirement already satisfied: matplotlib in /usr/local/lib/python3.7/dist-packages (from pyplutchik) (3.2.2)\n",
            "Requirement already satisfied: numpy in /usr/local/lib/python3.7/dist-packages (from pyplutchik) (1.19.5)\n",
            "Requirement already satisfied: python-dateutil>=2.1 in /usr/local/lib/python3.7/dist-packages (from matplotlib->pyplutchik) (2.8.1)\n",
            "Requirement already satisfied: pyparsing!=2.0.4,!=2.1.2,!=2.1.6,>=2.0.1 in /usr/local/lib/python3.7/dist-packages (from matplotlib->pyplutchik) (2.4.7)\n",
            "Requirement already satisfied: kiwisolver>=1.0.1 in /usr/local/lib/python3.7/dist-packages (from matplotlib->pyplutchik) (1.3.1)\n",
            "Requirement already satisfied: cycler>=0.10 in /usr/local/lib/python3.7/dist-packages (from matplotlib->pyplutchik) (0.10.0)\n",
            "Requirement already satisfied: six in /usr/local/lib/python3.7/dist-packages (from cycler>=0.10->matplotlib->pyplutchik) (1.15.0)\n",
            "Requirement already satisfied: pytz>=2017.2 in /usr/local/lib/python3.7/dist-packages (from pandas->pyplutchik) (2018.9)\n",
            "Installing collected packages: pyplutchik\n",
            "Successfully installed pyplutchik-0.0.7\n"
          ],
          "name": "stdout"
        }
      ]
    },
    {
      "cell_type": "code",
      "metadata": {
        "colab": {
          "base_uri": "https://localhost:8080/",
          "height": 483
        },
        "id": "wUc09uWSjfYZ",
        "outputId": "eb7b832a-725d-4aff-d034-7ae606b07a79"
      },
      "source": [
        "from pyplutchik import plutchik\n",
        "import matplotlib.pyplot as plt\n",
        "from random import uniform\n",
        "\n",
        "#Must be one of 'joy', 'trust', 'fear', 'surprise', 'sadness', 'disgust', 'anger', 'anticipation'\n",
        "\n",
        "\n",
        "plutchik(dict(emotions_plutchik.mean()))"
      ],
      "execution_count": null,
      "outputs": [
        {
          "output_type": "execute_result",
          "data": {
            "text/plain": [
              "<matplotlib.axes._subplots.AxesSubplot at 0x7f8d12f7b750>"
            ]
          },
          "metadata": {
            "tags": []
          },
          "execution_count": 32
        },
        {
          "output_type": "display_data",
          "data": {
            "image/png": "[encoded data removed]",
            "text/plain": [
              "<Figure size 576x576 with 1 Axes>"
            ]
          },
          "metadata": {
            "tags": [],
            "needs_background": "light"
          }
        }
      ]
    },
    {
      "cell_type": "markdown",
      "metadata": {
        "id": "Pch5O_hDAqHZ"
      },
      "source": [
        "# Analysing influence of sentiment on viewership performance"
      ]
    },
    {
      "cell_type": "markdown",
      "metadata": {
        "id": "p3RgpfdYRZUM"
      },
      "source": [
        "### Reading in data to not have to rerun sentiment analysis code"
      ]
    },
    {
      "cell_type": "code",
      "metadata": {
        "id": "grQcEp0BIXlU"
      },
      "source": [
        "import pandas as pd\n",
        "\n",
        "twitch_views = pd.read_csv('https://raw.githubusercontent.com/JefNtungila/Sentiment-Analysis-of-Usernames-and-Titles-on-YouTube-and-Twitch/main/data/twitch_views.csv')\n",
        "#dropping few values for which no emotion was returned\n",
        "twitch_views = twitch_views[twitch_views['emotion'].notna()]\n",
        "#converting percentage increase to values to actual scale\n",
        "twitch_views['percentage_increase'] = round(twitch_views['percentage_view_increase']*100)"
      ],
      "execution_count": 1,
      "outputs": []
    },
    {
      "cell_type": "markdown",
      "metadata": {
        "id": "p-EPueR9Rduc"
      },
      "source": [
        "## Producing percentage valence polarity per genre"
      ]
    },
    {
      "cell_type": "code",
      "metadata": {
        "colab": {
          "base_uri": "https://localhost:8080/"
        },
        "id": "ZNpCpY02ca2J",
        "outputId": "5b1604df-e1d2-4a12-b5f1-5e3fd97ed472"
      },
      "source": [
        "twitch_views['name_sentiment_polarity'].value_counts()"
      ],
      "execution_count": 2,
      "outputs": [
        {
          "output_type": "execute_result",
          "data": {
            "text/plain": [
              "neutral     18347\n",
              "negative     2901\n",
              "positive     2231\n",
              "Name: name_sentiment_polarity, dtype: int64"
            ]
          },
          "metadata": {},
          "execution_count": 2
        }
      ]
    },
    {
      "cell_type": "code",
      "metadata": {
        "colab": {
          "base_uri": "https://localhost:8080/"
        },
        "id": "MVDWY5E1LTQr",
        "outputId": "a223cce4-270f-424e-93a9-d90c9ab85bf4"
      },
      "source": [
        "#percentage polarity per genre \n",
        "twitch_views[twitch_views['genre'] == 'MMO']['name_sentiment_polarity'].value_counts(normalize = True)"
      ],
      "execution_count": 3,
      "outputs": [
        {
          "output_type": "execute_result",
          "data": {
            "text/plain": [
              "neutral     0.650651\n",
              "positive    0.265472\n",
              "negative    0.083876\n",
              "Name: name_sentiment_polarity, dtype: float64"
            ]
          },
          "metadata": {},
          "execution_count": 3
        }
      ]
    },
    {
      "cell_type": "code",
      "metadata": {
        "colab": {
          "base_uri": "https://localhost:8080/"
        },
        "id": "lmxDbsJRO9gZ",
        "outputId": "f0c748b6-9b68-434c-e1b1-99364dbb160d"
      },
      "source": [
        "#percentage polarity per genre \n",
        "twitch_views[twitch_views['genre'] == 'Misc']['name_sentiment_polarity'].value_counts(normalize = True)"
      ],
      "execution_count": 4,
      "outputs": [
        {
          "output_type": "execute_result",
          "data": {
            "text/plain": [
              "neutral     0.763267\n",
              "negative    0.173504\n",
              "positive    0.063229\n",
              "Name: name_sentiment_polarity, dtype: float64"
            ]
          },
          "metadata": {},
          "execution_count": 4
        }
      ]
    },
    {
      "cell_type": "code",
      "metadata": {
        "colab": {
          "base_uri": "https://localhost:8080/"
        },
        "id": "TnVBL1oKPftJ",
        "outputId": "4bc890a9-76ac-4ba2-81c9-da9418963b3e"
      },
      "source": [
        "#percentage polarity per genre \n",
        "twitch_views[twitch_views['genre'] == 'Strategy']['name_sentiment_polarity'].value_counts(normalize = True)"
      ],
      "execution_count": 5,
      "outputs": [
        {
          "output_type": "execute_result",
          "data": {
            "text/plain": [
              "neutral     0.828995\n",
              "negative    0.148590\n",
              "positive    0.022415\n",
              "Name: name_sentiment_polarity, dtype: float64"
            ]
          },
          "metadata": {},
          "execution_count": 5
        }
      ]
    },
    {
      "cell_type": "code",
      "metadata": {
        "colab": {
          "base_uri": "https://localhost:8080/"
        },
        "id": "_OZFh8B3QALb",
        "outputId": "e4407c4f-b4bd-4413-f1d3-38ee422c160e"
      },
      "source": [
        "#percentage polarity per genre \n",
        "twitch_views[twitch_views['genre'] == 'Action']['name_sentiment_polarity'].value_counts(normalize = True)"
      ],
      "execution_count": 6,
      "outputs": [
        {
          "output_type": "execute_result",
          "data": {
            "text/plain": [
              "neutral     0.785911\n",
              "negative    0.110873\n",
              "positive    0.103216\n",
              "Name: name_sentiment_polarity, dtype: float64"
            ]
          },
          "metadata": {},
          "execution_count": 6
        }
      ]
    },
    {
      "cell_type": "code",
      "metadata": {
        "colab": {
          "base_uri": "https://localhost:8080/"
        },
        "id": "ikGsOQjhQn8_",
        "outputId": "a238532d-7ebf-4b06-ff7c-e2709a8859cf"
      },
      "source": [
        "#percentage polarity per genre \n",
        "twitch_views[twitch_views['genre'] == 'Shooter']['name_sentiment_polarity'].value_counts(normalize = True)"
      ],
      "execution_count": 7,
      "outputs": [
        {
          "output_type": "execute_result",
          "data": {
            "text/plain": [
              "neutral     0.804180\n",
              "negative    0.104911\n",
              "positive    0.090909\n",
              "Name: name_sentiment_polarity, dtype: float64"
            ]
          },
          "metadata": {},
          "execution_count": 7
        }
      ]
    },
    {
      "cell_type": "code",
      "metadata": {
        "colab": {
          "base_uri": "https://localhost:8080/"
        },
        "id": "ZG_tlXtDQ79C",
        "outputId": "9899827b-f701-418b-cde4-7c8afa4f1dda"
      },
      "source": [
        "#percentage polarity per genre \n",
        "twitch_views[twitch_views['genre'] == 'Other']['name_sentiment_polarity'].value_counts(normalize = True)"
      ],
      "execution_count": 8,
      "outputs": [
        {
          "output_type": "execute_result",
          "data": {
            "text/plain": [
              "neutral     0.786944\n",
              "negative    0.119479\n",
              "positive    0.093577\n",
              "Name: name_sentiment_polarity, dtype: float64"
            ]
          },
          "metadata": {},
          "execution_count": 8
        }
      ]
    },
    {
      "cell_type": "markdown",
      "metadata": {
        "id": "lMoN0dH2Ri-c"
      },
      "source": [
        "## Analysing boxplots of percentage increase viewership per genre"
      ]
    },
    {
      "cell_type": "code",
      "metadata": {
        "colab": {
          "base_uri": "https://localhost:8080/",
          "height": 313
        },
        "id": "VQOMJ-7GdMVX",
        "outputId": "18084c29-860d-489e-a6c1-a4cb1059e7f2"
      },
      "source": [
        "import seaborn as sns\n",
        "\n",
        "#investigating the influence of sentiment on viewership performance\n",
        "\n",
        "my_order = ['neutral', 'negative', 'positive']\n",
        "\n",
        "boxplot1 = sns.boxplot(x='sentiment_polarity', y='percentage_increase', \n",
        "                  data=twitch_views, whis=[0, 100], notch = True, order = my_order)\n",
        "boxplot1.set(yscale='log')\n",
        "boxplot1.set_title('Effect of Sentiment on Viewership Increase - Twitch')"
      ],
      "execution_count": 9,
      "outputs": [
        {
          "output_type": "execute_result",
          "data": {
            "text/plain": [
              "Text(0.5, 1.0, 'Effect of Sentiment on Viewership Increase - Twitch')"
            ]
          },
          "metadata": {},
          "execution_count": 9
        },
        {
          "output_type": "display_data",
          "data": {
            "image/png": "[encoded data removed]",
            "text/plain": [
              "<Figure size 432x288 with 1 Axes>"
            ]
          },
          "metadata": {
            "needs_background": "light"
          }
        }
      ]
    },
    {
      "cell_type": "code",
      "metadata": {
        "colab": {
          "base_uri": "https://localhost:8080/",
          "height": 313
        },
        "id": "XPHoyoGEd97n",
        "outputId": "81ef1ebb-f7fb-4eee-8bde-ea2574618cb6"
      },
      "source": [
        "import seaborn as sns\n",
        "\n",
        "my_order = ['neutral', 'negative', 'positive']\n",
        "\n",
        "boxplot2 = sns.boxplot(x='name_sentiment_polarity', y='percentage_increase', order = my_order,\n",
        "                  data=twitch_views, whis=[0, 100], notch = True)\n",
        "boxplot2.set(yscale='log')\n",
        "boxplot2.set_title('Effect of Name Sentiment on Viewership Increase - Twitch')"
      ],
      "execution_count": 10,
      "outputs": [
        {
          "output_type": "execute_result",
          "data": {
            "text/plain": [
              "Text(0.5, 1.0, 'Effect of Name Sentiment on Viewership Increase - Twitch')"
            ]
          },
          "metadata": {},
          "execution_count": 10
        },
        {
          "output_type": "display_data",
          "data": {
            "image/png": "[encoded data removed]",
            "text/plain": [
              "<Figure size 432x288 with 1 Axes>"
            ]
          },
          "metadata": {
            "needs_background": "light"
          }
        }
      ]
    },
    {
      "cell_type": "code",
      "metadata": {
        "id": "gDs1hsT7eb_5"
      },
      "source": [
        "def emotion_aggregator(emotion):\n",
        "  '''\n",
        "  function takes in emotion dictionary \n",
        "  and returns biggest value of emotion detected in series\n",
        "  '''\n",
        "  emotion = eval(emotion)\n",
        "  del emotion['negative']\n",
        "  del emotion['positive']\n",
        "  del emotion['anticip']\n",
        "  emotion = max(emotion, key=emotion.get)\n",
        "  return emotion"
      ],
      "execution_count": 11,
      "outputs": []
    },
    {
      "cell_type": "code",
      "metadata": {
        "id": "_zmpQmLeelZO"
      },
      "source": [
        "#computing strongest emotion \n",
        "twitch_views['strongest_emotion'] = twitch_views['emotion'].apply(lambda x: emotion_aggregator(x))"
      ],
      "execution_count": 12,
      "outputs": []
    },
    {
      "cell_type": "code",
      "metadata": {
        "colab": {
          "base_uri": "https://localhost:8080/",
          "height": 313
        },
        "id": "7iofqQxoeols",
        "outputId": "01607e76-5bf1-428c-80b8-a3aea4da00e1"
      },
      "source": [
        "my_order = ['sadness', 'fear', 'surprise', 'trust', 'anticipation', 'joy', 'anger', 'disgust']\n",
        "\n",
        "boxplot3 = sns.boxplot(x='strongest_emotion', y='percentage_increase', \n",
        "                  data=twitch_views, whis=[0, 100], notch = True, order = my_order)\n",
        "boxplot3.set(yscale='log')\n",
        "boxplot3.set_title('Effect of Emotion on Viewership Increase - Twitch')"
      ],
      "execution_count": 13,
      "outputs": [
        {
          "output_type": "execute_result",
          "data": {
            "text/plain": [
              "Text(0.5, 1.0, 'Effect of Emotion on Viewership Increase - Twitch')"
            ]
          },
          "metadata": {},
          "execution_count": 13
        },
        {
          "output_type": "display_data",
          "data": {
            "image/png": "[encoded data removed]",
            "text/plain": [
              "<Figure size 432x288 with 1 Axes>"
            ]
          },
          "metadata": {
            "needs_background": "light"
          }
        }
      ]
    },
    {
      "cell_type": "markdown",
      "metadata": {
        "id": "uqI8sN4dSXYX"
      },
      "source": [
        "## Computing median percentage increase in viewership and confidence interval of the point estimate"
      ]
    },
    {
      "cell_type": "code",
      "metadata": {
        "id": "fr1d9y-UdqU6"
      },
      "source": [
        "import numpy as np\n",
        "from sklearn.utils import resample\n",
        "\n",
        "def confidence_calc(data): \n",
        "  '''function takes a series in, \n",
        "    samples replacement data 10000 times\n",
        "    computes the median for the replacement data and stores it\n",
        "   and then gives 95% confidence interval of the medians'''\n",
        "\n",
        "  bootstrapped_medians = []\n",
        "\n",
        "  # prepare bootstrap sample\n",
        "  for i in range(10000):\n",
        "    boot = resample(data, replace=True)\n",
        "    bootstrapped_medians.append(np.median(boot))\n",
        "  \n",
        "  a = np.percentile(bootstrapped_medians, 2.5)\n",
        "  b = np.percentile(bootstrapped_medians, 97.5)\n",
        "\n",
        "  \n",
        "  return (round(a), round(b))\n"
      ],
      "execution_count": 14,
      "outputs": []
    },
    {
      "cell_type": "code",
      "metadata": {
        "colab": {
          "base_uri": "https://localhost:8080/"
        },
        "id": "XgjpZIubdbdl",
        "outputId": "ae3a8ffd-9ccf-4576-a9f8-9a1fa427fddb"
      },
      "source": [
        "twitch_views.groupby('sentiment_polarity').median()['percentage_increase']"
      ],
      "execution_count": 15,
      "outputs": [
        {
          "output_type": "execute_result",
          "data": {
            "text/plain": [
              "sentiment_polarity\n",
              "negative    31.0\n",
              "neutral     34.0\n",
              "positive    32.0\n",
              "Name: percentage_increase, dtype: float64"
            ]
          },
          "metadata": {},
          "execution_count": 15
        }
      ]
    },
    {
      "cell_type": "code",
      "metadata": {
        "colab": {
          "base_uri": "https://localhost:8080/"
        },
        "id": "j6uhDfzbduBj",
        "outputId": "0d4d44d5-e28c-4232-e006-edaa6030b1c1"
      },
      "source": [
        "#computing 95% confidence interval for Twitch views\n",
        "print(confidence_calc(twitch_views[twitch_views['sentiment_polarity']=='negative']['percentage_increase']))\n",
        "print(confidence_calc(twitch_views[twitch_views['sentiment_polarity']=='neutral']['percentage_increase']))\n",
        "print(confidence_calc(twitch_views[twitch_views['sentiment_polarity']=='positive']['percentage_increase']))"
      ],
      "execution_count": 16,
      "outputs": [
        {
          "output_type": "stream",
          "name": "stdout",
          "text": [
            "(29, 32)\n",
            "(33, 35)\n",
            "(32, 34)\n"
          ]
        }
      ]
    },
    {
      "cell_type": "code",
      "metadata": {
        "colab": {
          "base_uri": "https://localhost:8080/"
        },
        "id": "4WUNOdhZeFEp",
        "outputId": "3fd5fceb-0500-4ee1-a540-ef362fadeaec"
      },
      "source": [
        "twitch_views.groupby('name_sentiment_polarity').median()['percentage_increase']"
      ],
      "execution_count": null,
      "outputs": [
        {
          "output_type": "execute_result",
          "data": {
            "text/plain": [
              "name_sentiment_polarity\n",
              "negative    28.0\n",
              "neutral     34.0\n",
              "positive    32.0\n",
              "Name: percentage_increase, dtype: float64"
            ]
          },
          "metadata": {},
          "execution_count": 17
        }
      ]
    },
    {
      "cell_type": "code",
      "metadata": {
        "colab": {
          "base_uri": "https://localhost:8080/"
        },
        "id": "TGudJT0WeN89",
        "outputId": "c7dc7dfa-985e-45d1-87ff-7d51a7154da0"
      },
      "source": [
        "#computing confidence interval of median values\n",
        "print(confidence_calc(twitch_views[twitch_views['name_sentiment_polarity']=='negative']['percentage_increase']))\n",
        "print(confidence_calc(twitch_views[twitch_views['name_sentiment_polarity']=='neutral']['percentage_increase']))\n",
        "print(confidence_calc(twitch_views[twitch_views['name_sentiment_polarity']=='positive']['percentage_increase']))"
      ],
      "execution_count": 17,
      "outputs": [
        {
          "output_type": "stream",
          "name": "stdout",
          "text": [
            "(27, 30)\n",
            "(33, 35)\n",
            "(30, 35)\n"
          ]
        }
      ]
    },
    {
      "cell_type": "code",
      "metadata": {
        "colab": {
          "base_uri": "https://localhost:8080/"
        },
        "id": "NEKPvmKegGHG",
        "outputId": "c81d3819-0fa9-4196-96c0-5f7634b1eb2b"
      },
      "source": [
        "twitch_views.groupby('strongest_emotion').median()['percentage_increase']"
      ],
      "execution_count": null,
      "outputs": [
        {
          "output_type": "execute_result",
          "data": {
            "text/plain": [
              "strongest_emotion\n",
              "anger           32.0\n",
              "anticipation    31.0\n",
              "disgust         34.0\n",
              "fear            34.0\n",
              "joy             32.0\n",
              "sadness         31.0\n",
              "surprise        34.0\n",
              "trust           34.5\n",
              "Name: percentage_increase, dtype: float64"
            ]
          },
          "metadata": {},
          "execution_count": 19
        }
      ]
    },
    {
      "cell_type": "code",
      "metadata": {
        "colab": {
          "base_uri": "https://localhost:8080/"
        },
        "id": "OP-fvhIvgMrH",
        "outputId": "e191ba20-bc67-4652-c4dc-16448c9f3d14"
      },
      "source": [
        "#producing confidence interval for effect of different emotions on viewership\n",
        "\n",
        "print(confidence_calc(twitch_views[twitch_views['strongest_emotion']=='sadness']['percentage_increase']))\n",
        "print(confidence_calc(twitch_views[twitch_views['strongest_emotion']=='fear']['percentage_increase']))\n",
        "print(confidence_calc(twitch_views[twitch_views['strongest_emotion']=='surprise']['percentage_increase']))\n",
        "\n",
        "print(confidence_calc(twitch_views[twitch_views['strongest_emotion']=='trust']['percentage_increase']))\n",
        "print(confidence_calc(twitch_views[twitch_views['strongest_emotion']=='anticipation']['percentage_increase']))\n",
        "print(confidence_calc(twitch_views[twitch_views['strongest_emotion']=='joy']['percentage_increase']))\n",
        "\n",
        "\n",
        "print(confidence_calc(twitch_views[twitch_views['strongest_emotion']=='anger']['percentage_increase']))\n",
        "print(confidence_calc(twitch_views[twitch_views['strongest_emotion']=='disgust']['percentage_increase']))\n",
        "\n",
        "\n"
      ],
      "execution_count": 18,
      "outputs": [
        {
          "output_type": "stream",
          "name": "stdout",
          "text": [
            "(29, 34)\n",
            "(33, 34)\n",
            "(30, 37)\n",
            "(32, 37)\n",
            "(29, 34)\n",
            "(28, 34)\n",
            "(29, 34)\n",
            "(28, 45)\n"
          ]
        }
      ]
    },
    {
      "cell_type": "markdown",
      "metadata": {
        "id": "qkT10wndr3-Q"
      },
      "source": [
        "## Computing ranked ANOVA to understand significance of difference in ranked median"
      ]
    },
    {
      "cell_type": "code",
      "metadata": {
        "colab": {
          "base_uri": "https://localhost:8080/"
        },
        "id": "KiWWctRvr--I",
        "outputId": "a0614d62-5546-4b6c-939e-a388a765a107"
      },
      "source": [
        "#computing ranked ANOVA  for twitch views\n",
        "x = twitch_views[twitch_views['sentiment_polarity']=='negative']['percentage_increase']\n",
        "y = twitch_views[twitch_views['sentiment_polarity']=='neutral']['percentage_increase']\n",
        "z = twitch_views[twitch_views['sentiment_polarity']=='positive']['percentage_increase']\n",
        "st.kruskal(x, y, z)\n",
        "\n"
      ],
      "execution_count": null,
      "outputs": [
        {
          "output_type": "execute_result",
          "data": {
            "text/plain": [
              "KruskalResult(statistic=21.02442396110231, pvalue=2.720221972239175e-05)"
            ]
          },
          "metadata": {},
          "execution_count": 21
        }
      ]
    },
    {
      "cell_type": "code",
      "metadata": {
        "colab": {
          "base_uri": "https://localhost:8080/"
        },
        "id": "cw_Ab5a1vPwp",
        "outputId": "5be021a3-750a-4a4d-fb4e-bf4d92b3de59"
      },
      "source": [
        "#computing ranked ANOVA for twitch views\n",
        "x = twitch_views[twitch_views['name_sentiment_polarity']=='negative']['percentage_increase']\n",
        "y = twitch_views[twitch_views['name_sentiment_polarity']=='neutral']['percentage_increase']\n",
        "z = twitch_views[twitch_views['name_sentiment_polarity']=='positive']['percentage_increase']\n",
        "st.kruskal(x, y, z)\n"
      ],
      "execution_count": null,
      "outputs": [
        {
          "output_type": "execute_result",
          "data": {
            "text/plain": [
              "KruskalResult(statistic=48.55947472174362, pvalue=2.853934766890485e-11)"
            ]
          },
          "metadata": {},
          "execution_count": 22
        }
      ]
    },
    {
      "cell_type": "code",
      "metadata": {
        "colab": {
          "base_uri": "https://localhost:8080/"
        },
        "id": "YqSs1yGmv2Qg",
        "outputId": "e4fb043b-2da6-452c-bcb3-3d5b15ca6769"
      },
      "source": [
        "#computing ranked ANOVA for twitch views\n",
        "\n",
        "x = twitch_views[twitch_views['strongest_emotion']=='sadness']['percentage_increase']\n",
        "y = twitch_views[twitch_views['strongest_emotion']=='fear']['percentage_increase']\n",
        "z = twitch_views[twitch_views['strongest_emotion']=='surprise']['percentage_increase']\n",
        "\n",
        "a = twitch_views[twitch_views['strongest_emotion']=='trust']['percentage_increase']\n",
        "b = twitch_views[twitch_views['strongest_emotion']=='anticipation']['percentage_increase']\n",
        "c = twitch_views[twitch_views['strongest_emotion']=='joy']['percentage_increase']\n",
        "\n",
        "\n",
        "d = twitch_views[twitch_views['strongest_emotion']=='anger']['percentage_increase']\n",
        "e = twitch_views[twitch_views['strongest_emotion']=='disgust']['percentage_increase']\n",
        "\n",
        "st.kruskal(x, y, z, a, b, c, d, e)"
      ],
      "execution_count": null,
      "outputs": [
        {
          "output_type": "execute_result",
          "data": {
            "text/plain": [
              "KruskalResult(statistic=20.155746375737106, pvalue=0.005242918159175005)"
            ]
          },
          "metadata": {},
          "execution_count": 23
        }
      ]
    }
  ]
}